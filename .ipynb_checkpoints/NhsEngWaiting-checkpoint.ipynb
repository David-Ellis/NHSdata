{
 "cells": [
  {
   "cell_type": "markdown",
   "metadata": {},
   "source": [
    "<center><h1>Get Data on NHS Waiting Times</h1></center>"
   ]
  },
  {
   "cell_type": "markdown",
   "metadata": {},
   "source": [
    "<h3>Get urls of all pages with the data</h3>"
   ]
  },
  {
   "cell_type": "code",
   "execution_count": 1,
   "metadata": {},
   "outputs": [
    {
     "name": "stdout",
     "output_type": "stream",
     "text": [
      "Total of 12 pages found\n"
     ]
    }
   ],
   "source": [
    "import requests, sys, webbrowser, bs4, os\n",
    "import matplotlib.pyplot as plt\n",
    "import numpy as np\n",
    "import requests\n",
    "import pandas as pd\n",
    "from time import strptime\n",
    "import matplotlib\n",
    "import csv\n",
    "matplotlib.rcParams['mathtext.fontset'] = 'stix'\n",
    "matplotlib.rcParams['font.family'] = 'sans-serif'\n",
    "matplotlib.rc('font', size=20)\n",
    "\n",
    "printOutput = False\n",
    "\n",
    "os.makedirs('AnE_Data', exist_ok=True)\n",
    "\n",
    "root_url = \"https://www.england.nhs.uk/statistics/statistical-work-areas/ae-waiting-times-and-activity/\"\n",
    "res = requests.get(root_url)\n",
    "soup = bs4.BeautifulSoup(res.content)\n",
    "\n",
    "linkElems = soup.select(\"a\")\n",
    "page_names = []\n",
    "\n",
    "for elem in linkElems:\n",
    "    if \"Monthly A&E Attendances and Emergency Admissions\" in elem.getText():\n",
    "        page_names.append(elem.get('href'))\n",
    "    elif \"Weekly A&E Attendances and Emergency Admissions\" in elem.getText():\n",
    "        page_names.append(elem.get('href'))\n",
    "\n",
    "print(\"Total of {} pages found\".format(len(page_names)))"
   ]
  },
  {
   "cell_type": "markdown",
   "metadata": {},
   "source": [
    "<h2>Get all csv and xls file names</h2>"
   ]
  },
  {
   "cell_type": "code",
   "execution_count": 2,
   "metadata": {},
   "outputs": [
    {
     "name": "stdout",
     "output_type": "stream",
     "text": [
      "Total of 28 csv files and 342 xls files.\n"
     ]
    }
   ],
   "source": [
    "csv_file_names = []\n",
    "xls_file_names = []\n",
    "\n",
    "for name in page_names:\n",
    "    #print(\"Looking at page: \", name, '\\n')\n",
    "    res = requests.get(name)\n",
    "    soup = bs4.BeautifulSoup(res.content)\n",
    "    linkElems = soup.select(\"a\")\n",
    "    for elem in linkElems:\n",
    "        if '.csv' in elem.get('href'):\n",
    "            csv_file_names.append(elem.get('href'))\n",
    "        # Take out quarters because they're difficult to deal with.\n",
    "        elif 'AE' in elem.get('href') and '.xls' in elem.get('href'):\n",
    "            xls_file_names.append(elem.get('href'))\n",
    "            #print(elem.get('href'))\n",
    "        elif 'by-provider' in elem.get('href') and '.xls' in elem.get('href'):\n",
    "            # To account for the change in January 2020\n",
    "            xls_file_names.append(elem.get('href'))\n",
    "print(\"Total of {} csv files and {} xls files.\".format(len(csv_file_names), len(xls_file_names)))"
   ]
  },
  {
   "cell_type": "code",
   "execution_count": 3,
   "metadata": {},
   "outputs": [],
   "source": [
    "for file in xls_file_names[190:200]:\n",
    "    resp = requests.get(file)"
   ]
  },
  {
   "cell_type": "markdown",
   "metadata": {},
   "source": [
    "<h2>Take data from xls files</h2>"
   ]
  },
  {
   "cell_type": "code",
   "execution_count": 4,
   "metadata": {
    "scrolled": false
   },
   "outputs": [
    {
     "name": "stdout",
     "output_type": "stream",
     "text": [
      "Found 288 data sets.\n"
     ]
    }
   ],
   "source": [
    "attendence_months = []\n",
    "over4hours_months = []\n",
    "period_months = []\n",
    "\n",
    "attendence_weeks = []\n",
    "over4hours_weeks = []\n",
    "period_weeks = []\n",
    "\n",
    "month_names = [\"January\", \"February\",\"March\", \"April\",\"May\", \"June\", \"July\",\n",
    "          \"August\", \"September\", \"October\", \"November\", \"December\"]\n",
    "\n",
    "def try1(sheet):\n",
    "    try: over4hours = sheet[\"Total Attendances > 4 hours\"][0]\n",
    "    except: return False \n",
    "    return True\n",
    "\n",
    "def try2(sheet):\n",
    "    try: over4hours = sheet[\"Total Attendances < 4 hours\"][0]\n",
    "    except: return False \n",
    "    return True\n",
    "\n",
    "def try3(sheet):\n",
    "    try: over4hours = sheet[\"Percentage in 4 hours or less (all)\"][0]\n",
    "    except: return False \n",
    "    return True\n",
    "\n",
    "def makeDataMask(data):\n",
    "    dataMask = np.zeros(len(data),dtype=bool)\n",
    "    for c, cell in enumerate(data):\n",
    "        if type(cell)==str or np.isnan(cell):\n",
    "            dataMask[c]=False\n",
    "        else:\n",
    "            dataMask[c]=True\n",
    "    return dataMask\n",
    "\n",
    "# Make vectorised int function\n",
    "vecint = np.vectorize(int)\n",
    "\n",
    "avoid_list = [\"Quarter\", \"QUARTER\", \"Timeseries\",\"Time-Series\", \"Q1\",\"Q2\",\"Q3\",\"Q4\",\"transparency\"]\n",
    "\n",
    "def check_file(name):\n",
    "    '''Checks if the file name contains any of the words from avoid_list\n",
    "    which indicate that the file is not one of the normal monthly datasets.\n",
    "    \n",
    "    Returns single Boolean.\n",
    "    '''\n",
    "    use = True\n",
    "    for item in avoid_list:\n",
    "        if item in name:\n",
    "            use = False\n",
    "    return use \n",
    "\n",
    "# Gather data that we actually want to use\n",
    "data = []\n",
    "for i, name in enumerate(xls_file_names):\n",
    "    if check_file(name):\n",
    "        data.append(name)\n",
    "              \n",
    "print(\"Found {} data sets.\".format(len(data)))"
   ]
  },
  {
   "cell_type": "code",
   "execution_count": 5,
   "metadata": {},
   "outputs": [],
   "source": [
    "############################################################################################\n",
    "########################## Get names and initiate data storage #############################\n",
    "############################################################################################\n",
    "\n",
    "resp = requests.get(data[0])\n",
    "# Store the data in a temporary file\n",
    "tempfile = open('tempfile.xls', 'wb')\n",
    "tempfile.write(resp.content)\n",
    "tempfile.close()\n",
    "sheet = pd.read_excel('tempfile.xls', sheet_name=0, skiprows=15, usecols=\"A,B,C,D,E,F,G,H,I,J,K,L,M,N\")\n",
    "#allNames = np.load(\"AllNames.npy\", allow_pickle=True) #sheet['Name'].values    \n",
    "\n",
    "# This should be saved externally (or make this script a module)\n",
    "allNames = np.array([\"England\", np.nan, \"Bedfordshire Hospitals NHS Foundation Trust\", \"Cambridge University Hospitals NHS Foundation Trust\", \"Clacton Hospital\", \"East And North Hertfordshire NHS Trust\", \"East Suffolk And North Essex NHS Foundation Trust\", \"Fryatt Hospital\", \"Hertfordshire Community NHS Trust\", \"Herts Urgent Care (Ascots Lane)\", \"James Paget University Hospitals NHS Foundation Trust\", \"Mid And South Essex NHS Foundation Trust\", \"Milton Keynes University Hospital NHS Foundation Trust\", \"Norfolk And Norwich University Hospitals NHS Foundation Trust\", \"North West Anglia NHS Foundation Trust\", \"Putnoe Medical Centre Walk In Centre\", \"The Princess Alexandra Hospital NHS Trust\", \"The Queen Elizabeth Hospital, King's Lynn, NHS Foundation Trust\", \"West Hertfordshire Hospitals NHS Trust\", \"West Suffolk NHS Foundation Trust\", \"Barking, Havering And Redbridge University Hospitals NHS Trust\", \"Barts Health NHS Trust\", \"Beckenham Beacon Ucc\", \"Central London Community Healthcare NHS Trust\", \"Chelsea And Westminster Hospital NHS Foundation Trust\", \"Croydon Health Services NHS Trust\", \"Epsom And St Helier University Hospitals NHS Trust\", \"Guy's And St Thomas' NHS Foundation Trust\", \"Hhcic East Wic\", \"Homerton University Hospital NHS Foundation Trust\", \"Hounslow And Richmond Community Healthcare NHS Trust\", \"Imperial College Healthcare NHS Trust\", \"King's College Hospital NHS Foundation Trust\", \"Kingston Hospital NHS Foundation Trust\", \"Lewisham And Greenwich NHS Trust\", \"London North West University Healthcare NHS Trust\", \"Moorfields Eye Hospital NHS Foundation Trust\", \"North East London NHS Foundation Trust\", \"North Middlesex University Hospital NHS Trust\", \"Royal Brompton & Harefield NHS Foundation Trust\", \"Royal Free London NHS Foundation Trust\", \"Royal National Orthopaedic Hospital NHS Trust\", \"St George's University Hospitals NHS Foundation Trust\", \"The Hillingdon Hospitals NHS Foundation Trust\", \"The Pinn Unregistered Wic\", \"University College London Hospitals NHS Foundation Trust\", \"Urgent Care Centre (Qms)\", \"Whittington Health NHS Trust\", \"Assura Vertis Urgent Care Centres (Birmingham)\", \"Badger Ltd\", \"Birmingham Wic\", \"Birmingham Women's And Children's NHS Foundation Trust\", \"Chesterfield Royal Hospital NHS Foundation Trust\", \"Corby Urgent Care Centre\", \"Coventry And Warwickshire Partnership NHS Trust\", \"Derbyshire Community Health Services NHS Foundation Trust\", \"Dhu Health Care C.I.C\", \"Erdington GP Health & Wellbeing Wic\", \"George Eliot Hospital NHS Trust\", \"Kettering General Hospital NHS Foundation Trust\", \"Latham House Medical Practice\", \"Lincolnshire Community Health Services NHS Trust\", \"Llr Ea - The Merlyn Vaz Health & Social Care Centre\", \"Loughborough Urgent Care Centre\", \"Market Harborough\", \"Market Harborough Med.Ctr\", \"Melton Mowbray\", \"Northampton General Hospital NHS Trust\", \"Nottingham Citycare Partnership\", \"Nottingham University Hospitals NHS Trust\", \"Oadby\", \"Oakham\", \"Oakham Medical Practice\", \"Sandwell And West Birmingham Hospitals NHS Trust\", \"Sherwood Forest Hospitals NHS Foundation Trust\", \"Shrewsbury And Telford Hospital NHS Trust\", \"Shropshire Community Health NHS Trust\", \"Sleaford Medical Group\", \"South Birmingham GP Walk In Centre\", \"South Warwickshire NHS Foundation Trust\", \"Summerfield GP Surg & Urgent Care Centre\", \"The Dudley Group NHS Foundation Trust\", \"The Robert Jones And Agnes Hunt Orthopaedic Hospital NHS Foundation Trust\", \"The Royal Wolverhampton NHS Trust\", \"United Lincolnshire Hospitals NHS Trust\", \"University Hospitals Birmingham NHS Foundation Trust\", \"University Hospitals Coventry And Warwickshire NHS Trust\", \"University Hospitals Of Derby And Burton NHS Foundation Trust\", \"University Hospitals Of Leicester NHS Trust\", \"University Hospitals Of North Midlands NHS Trust\", \"Walsall Healthcare NHS Trust\", \"Worcestershire Acute Hospitals NHS Trust\", \"Wye Valley NHS Trust\", \"Airedale NHS Foundation Trust\", \"Barnsley Hospital NHS Foundation Trust\", \"Bradford Teaching Hospitals NHS Foundation Trust\", \"Bransholme Health Centre\", \"Calderdale And Huddersfield NHS Foundation Trust\", \"County Durham And Darlington NHS Foundation Trust\", \"Doncaster And Bassetlaw Teaching Hospitals NHS Foundation Trust\", \"East Riding Community Hospital\", \"Gateshead Health NHS Foundation Trust\", \"Goole & District Hospital\", \"Harrogate And District NHS Foundation Trust\", \"Hull University Teaching Hospitals NHS Trust\", \"Humber Teaching NHS Foundation Trust\", \"Leeds Teaching Hospitals NHS Trust\", \"Local Care Direct\", \"Mid Yorkshire Hospitals NHS Trust\", \"North Cumbria Integrated Care NHS Foundation Trust\", \"North Tees And Hartlepool NHS Foundation Trust\", \"Northern Lincolnshire And Goole NHS Foundation Trust\", \"Northumbria Healthcare NHS Foundation Trust\", \"Park Community Practice\", \"Sheffield Children's NHS Foundation Trust\", \"Sheffield Teaching Hospitals NHS Foundation Trust\", \"South Tees Hospitals NHS Foundation Trust\", \"South Tyneside And Sunderland NHS Foundation Trust\", \"South West Yorkshire Partnership NHS Foundation Trust\", \"St.George's Centre\", \"The Newcastle Upon Tyne Hospitals NHS Foundation Trust\", \"The Rotherham NHS Foundation Trust\", \"The Wilberforce Health Centre\", \"Workington Health Limited\", \"York Teaching Hospital NHS Foundation Trust\", \"Alder Hey Children's NHS Foundation Trust\", \"Blackpool Teaching Hospitals NHS Foundation Trust\", \"Bolton NHS Foundation Trust\", \"Bridgewater Community Healthcare NHS Foundation Trust\", \"Countess Of Chester Hospital NHS Foundation Trust\", \"East Cheshire NHS Trust\", \"East Lancashire Hospitals NHS Trust\", \"Lancashire Teaching Hospitals NHS Foundation Trust\", \"Liverpool Heart And Chest Hospital NHS Foundation Trust\", \"Liverpool University Hospitals NHS Foundation Trust\", \"Liverpool Women's NHS Foundation Trust\", \"Manchester University NHS Foundation Trust\", \"Mersey Care NHS Foundation Trust\", \"Mid Cheshire Hospitals NHS Foundation Trust\", \"Miriam Minor Emergency\", \"North West Boroughs Healthcare NHS Foundation Trust\", \"Pennine Acute Hospitals NHS Trust\", \"Rossendale Minor Injuries Unit\", \"Salford Royal NHS Foundation Trust\", \"Skelmersdale Walk In Centre\", \"Southport And Ormskirk Hospital NHS Trust\", \"St Helens And Knowsley Teaching Hospitals NHS Trust\", \"Stockport NHS Foundation Trust\", \"Tameside And Glossop Integrated Care NHS Foundation Trust\", \"The Christie NHS Foundation Trust\", \"The Walton Centre NHS Foundation Trust\", \"University Hospitals Of Morecambe Bay NHS Foundation Trust\", \"Warrington And Halton Teaching Hospitals NHS Foundation Trust\", \"Wirral Community Health And Care NHS Foundation Trust\", \"Wirral University Teaching Hospital NHS Foundation Trust\", \"Wrightington, Wigan And Leigh NHS Foundation Trust\", \"Ashford And St Peter's Hospitals NHS Foundation Trust\", \"Ashford Walk-In-Centre\", \"Assura Reading Llp\", \"Berkshire Healthcare NHS Foundation Trust\", \"Bracknell Urgent Care Centre Wic\", \"Brighton And Sussex University Hospitals NHS Trust\", \"Brighton Station Health Centre\", \"Buckinghamshire Healthcare NHS Trust\", \"Dartford And Gravesham NHS Trust\", \"East Berks Primary Care Ooh(Wam)\", \"East Kent Hospitals University NHS Foundation Trust\", \"East Sussex Healthcare NHS Trust\", \"Eastbourne Station Health Centre\", \"First Community Health And Care Cic\", \"Frimley Health NHS Foundation Trust\", \"Hampshire Hospitals NHS Foundation Trust\", \"Haslemere Minor Injuries Unit\", \"Hastings Med P & Walkin\", \"Isle Of Wight NHS Trust\", \"Kent Community Health NHS Foundation Trust\", \"Maidstone And Tunbridge Wells NHS Trust\", \"Medway NHS Foundation Trust\", \"Oxford Health NHS Foundation Trust\", \"Oxford University Hospitals NHS Foundation Trust\", \"Phl Lymington Utc\", \"Portsmouth Hospitals University National Health Service Trust\", \"Queen Victoria Hospital NHS Foundation Trust\", \"Royal Berkshire NHS Foundation Trust\", \"Royal Surrey County Hospital NHS Foundation Trust\", \"Southampton NHS Treatment Centre\", \"Southern Health NHS Foundation Trust\", \"St Mary's NHS Treatment Centre\", \"Surrey And Sussex Healthcare NHS Trust\", \"Sussex Community NHS Foundation Trust\", \"University Hospital Southampton NHS Foundation Trust\", \"Western Sussex Hospitals NHS Foundation Trust\", \"Whitstable Medical Practice\", \"Woking Walk In Centre\", \"Cornwall Partnership NHS Foundation Trust\", \"Dorset County Hospital NHS Foundation Trust\", \"Dorset Healthcare University NHS Foundation Trust\", \"Exmouth Minor Injury Unit\", \"Gloucestershire Health And Care NHS Foundation Trust\", \"Gloucestershire Hospitals NHS Foundation Trust\", \"Great Western Hospitals NHS Foundation Trust\", \"North Bristol NHS Trust\", \"Northern Devon Healthcare NHS Trust\", \"Okehampton Medical Centre\", \"Paulton Memorial Hospital\", \"Poole Hospital NHS Foundation Trust\", \"Royal Cornwall Hospitals NHS Trust\", \"Royal Devon And Exeter NHS Foundation Trust\", \"Royal United Hospitals Bath NHS Foundation Trust\", \"Salisbury NHS Foundation Trust\", \"Sirona Care & Health\", \"Somerset NHS Foundation Trust\", \"Tetbury Hospital Trust Ltd\", \"The Royal Bournemouth And Christchurch Hospitals NHS Foundation Trust\", \"Torbay And South Devon NHS Foundation Trust\", \"University Hospitals Bristol And Weston NHS Foundation Trust\", \"University Hospitals Plymouth NHS Trust\", \"Wiltshire Health & Care\", \"Yeovil District Hospital NHS Foundation Trust\"], dtype=object)\n",
    "\n",
    "oldTrusts = np.array([\"Bedford Hospital NHS Trust\", \n",
    "                      \"Luton And Dunstable University Hospital NHS Foundation Trust\",\n",
    "                      \"Basildon And Thurrock University Hospitals NHS Foundation Trust\",\n",
    "                      \"Mid Essex Hospital Services NHS Trust\",\n",
    "                      \"Southend University Hospital NHS Foundation Trust\",\n",
    "                      \"Royal Liverpool And Broadgreen University Hospitals NHS Trust\",\n",
    "                      \"Aintree University Hospitals NHS Foundation Trust\"])\n",
    "                       \n",
    "allNames = np.concatenate((allNames, oldTrusts))\n",
    "\n",
    "attendences2 = np.zeros((len(allNames), len(data)),dtype=object) \n",
    "attendences2[:,:] = '-'\n",
    "over4hours = np.zeros((len(allNames), len(data)),dtype=object) \n",
    "over4hours[:,:] = '-'\n",
    "\n",
    "periods2 = np.zeros(len(data),dtype = object)"
   ]
  },
  {
   "cell_type": "code",
   "execution_count": 6,
   "metadata": {},
   "outputs": [
    {
     "name": "stdout",
     "output_type": "stream",
     "text": [
      "288 complete of 288...\r"
     ]
    }
   ],
   "source": [
    "############################################################################################\n",
    "############################### Add data for each data set #################################\n",
    "############################################################################################\n",
    "    \n",
    "missing = []\n",
    "    \n",
    "for i, name in enumerate(data):   \n",
    "    # Get the data location\n",
    "    resp = requests.get(name)\n",
    "\n",
    "    # Store the data in a temporary file\n",
    "    tempfile = open('tempfile.xls', 'wb')\n",
    "    tempfile.write(resp.content)\n",
    "    tempfile.close()\n",
    "\n",
    "    # Get all of the data from row 16 with columns A to N\n",
    "    # I don't think this is how try is supposed to be used but it works\n",
    "    sheet = pd.read_excel('tempfile.xls', sheet_name=0, skiprows=15, usecols=\"A,B,C,D,E,F,G,H,I,J,K,L,M,N\")\n",
    "    sheetTest = sheet\n",
    "\n",
    "    names = sheet['Name'].values  \n",
    "    all_attendence = sheet[\"Total attendances\"]\n",
    "    \n",
    "    # Get the total attendance\n",
    "    try:\n",
    "        attendence = sheet[\"Total attendances\"][0]\n",
    "    except:\n",
    "        attendence = sheet[\"Total Attendances\"][0]\n",
    "    \n",
    "    \n",
    "    # Try each of the three attendance column headers\n",
    "    if try1(sheet):\n",
    "        #print(1)\n",
    "        sample = sheet[\"Total Attendances > 4 hours\"].values\n",
    "        all_over4hours = np.zeros(len(sample),dtype=object)\n",
    "        all_over4hours[:] = '-'\n",
    "        mask = makeDataMask(sample)\n",
    "        all_over4hours[mask] = sample[mask]\n",
    "    elif try2(sheet):\n",
    "        #print(2)\n",
    "        sample = sheet[\"Total Attendances < 4 hours\"].values\n",
    "        all_over4hours = np.zeros(len(sample),dtype=object)\n",
    "        all_over4hours[:] = '-'\n",
    "        mask = makeDataMask(sample)\n",
    "        all_over4hours[mask] = all_attendence.values[mask] - sample[mask]\n",
    "    elif try3(sheet):\n",
    "        #print(3)\n",
    "        sample = sheet[\"Percentage in 4 hours or less (all)\"].values\n",
    "        all_over4hours = np.zeros(len(sample),dtype=object)\n",
    "        all_over4hours[:] = '-'\n",
    "        mask = makeDataMask(sample)\n",
    "        all_over4hours[mask] = vecint((1-sample[mask])*all_attendence.values[mask])\n",
    "        \n",
    "    for j, fname in enumerate(allNames):\n",
    "        if fname in names:\n",
    "            # Save attendance data\n",
    "            hospital_attendence = all_attendence[names==fname]\n",
    "            attendences2[:,i][allNames==fname] = hospital_attendence\n",
    "            \n",
    "            # Save waiting data\n",
    "            num_waiting = all_over4hours[names==fname]\n",
    "            over4hours[:,i][allNames==fname] = num_waiting\n",
    "        \n",
    "        # Combine Luton + Dunst Hosp with Luton + Dunst *Uni* Hosp\n",
    "        if \"Luton And Dunstable Hospital NHS Foundation Trust\" in names:\n",
    "            hospital_attendence = all_attendence[names==\"Luton And Dunstable Hospital NHS Foundation Trust\"]\n",
    "            attendences2[:,i][allNames==\"Luton And Dunstable University Hospital NHS Foundation Trust\"] = hospital_attendence\n",
    "            \n",
    "            # Save waiting data\n",
    "            num_waiting = all_over4hours[names==\"Luton And Dunstable Hospital NHS Foundation Trust\"]\n",
    "            over4hours[:,i][allNames==\"Luton And Dunstable University Hospital NHS Foundation Trust\"] = num_waiting\n",
    "            \n",
    "        else:\n",
    "            #print(\"Error: {} not found\".format(fname))\n",
    "            pass\n",
    "        \n",
    "    # checking for missing names\n",
    "    for test_name in names:\n",
    "        if test_name not in allNames and test_name not in missing:\n",
    "            #print(\"Error: {} has no home\".format(test_name))\n",
    "            missing.append(test_name)\n",
    "            \n",
    "    # Get cell containing the data period\n",
    "    sheet = pd.read_excel('tempfile.xls', sheet_name=0, skiprows=5, usecols=\"C\")\n",
    "    period = sheet.columns[0]\n",
    "    #print(period)\n",
    "    periods2[i] = period\n",
    "\n",
    "    if printOutput == False:\n",
    "        print(\"{} complete of {}...\".format(i+1,len(data)),end = \"\\r\")"
   ]
  },
  {
   "cell_type": "markdown",
   "metadata": {},
   "source": [
    "<h2>Turn weekly data into monthly data</h2>"
   ]
  },
  {
   "cell_type": "code",
   "execution_count": 7,
   "metadata": {},
   "outputs": [],
   "source": [
    "month_names = [\"January\", \"February\",\"March\", \"April\",\"May\", \"June\", \"July\",\n",
    "          \"August\", \"September\", \"October\", \"November\", \"December\"]\n",
    "\n",
    "def convMonths(date):\n",
    "    strip=strptime(date, \"%B %Y\")\n",
    "    text = \"{:02d}/{}\".format(strip[1], strip[0])\n",
    "    return text\n",
    "\n",
    "def convPeriods(periods):\n",
    "    # Make array of monthly data periods\n",
    "    \n",
    "    period_months = []\n",
    "    for period in periods:\n",
    "        # Check if it's month or week data\n",
    "        month = False\n",
    "        if period.split(' ')[0] in month_names:\n",
    "            text = convMonths(period)\n",
    "            period_months.append(text)\n",
    "        else:\n",
    "            text = period.split(' ')[2][3:]\n",
    "            if text not in period_months:\n",
    "                period_months.append(text)\n",
    "    return period_months\n",
    "\n",
    "def weekly2monthy(dates, weekly_data, printOutput = False):\n",
    "    # It's \"Week ending <date>\" so for each week, if the day is less than 7 \n",
    "    # I need to give a fraction to the previous month\n",
    "    days = np.zeros(len(dates))\n",
    "    months = np.zeros(len(dates))\n",
    "    years = np.zeros(len(dates))\n",
    "    \n",
    "    for i,week in enumerate(dates):\n",
    "        #print(week)\n",
    "        split = week.split(' ')[2].split('/')\n",
    "        days[i] = int(split[0])\n",
    "        months[i] = int(split[1])\n",
    "        years[i] = int(split[2])\n",
    "\n",
    "    monthly_data = []\n",
    "    weekly_data = np.asarray(weekly_data)\n",
    "    \n",
    "    new_dates = []\n",
    "    for year in range(int(min(years)),int(max(years))+1):\n",
    "        for month in range(1, 13):\n",
    "            mask = (years==year)*(months==month)\n",
    "            new_dates.append(\"{:02d}/{}\".format(month, year))\n",
    "            if sum(mask) > 0:\n",
    "                # Find the data corresponding to this month\n",
    "                month_data = weekly_data[mask]\n",
    "                if '-' not in month_data:\n",
    "                    week_ending = days[mask]\n",
    "\n",
    "                    # Calculate how much of the data came from the previous month \n",
    "                    # if this isn't the first data point, give the data to that month\n",
    "                    give_to_pevious = (7-week_ending[-1])*month_data[0]/7\n",
    "                    if len(monthly_data) > 0 and monthly_data[-1]!='-':\n",
    "                        monthly_data[-1] += give_to_pevious\n",
    "\n",
    "                    # Calulate total for this month minus donated data\n",
    "                    out = sum(month_data) - give_to_pevious\n",
    "                    # Check that we have all of the data for this month and if we do, append to final data list\n",
    "                    expected_data_entries = np.floor(abs(week_ending[0]-week_ending[-1])/7+1)\n",
    "                    if not int(expected_data_entries) == len(month_data):\n",
    "                        print(\"Error! Set: {} \\n       Should be {} but it's {}.\".format(np.asarray(dates)[mask], \n",
    "                                                        expected_data_entries, len(month_data)))\n",
    "                        print(\"Set will not be included in final data.\")\n",
    "                    else:\n",
    "                        \n",
    "                        #print(month_data)\n",
    "                        if 0 in month_data:\n",
    "                            monthly_data.append('-')\n",
    "                        else:\n",
    "                            monthly_data.append(out)\n",
    "                else:\n",
    "                    monthly_data.append('-')\n",
    "\n",
    "\n",
    "    return monthly_data, new_dates\n",
    "\n",
    "def sort_data(data, unsorted_periods):\n",
    "    periods = convPeriods(unsorted_periods)\n",
    "    final_attendence = np.zeros((len(allNames), len(periods)), dtype=object)\n",
    "    \n",
    "    month_mask = [unsorted_periods[i].split(' ')[0] in month_names for i in range(len(unsorted_periods))]\n",
    "    #print(month_mask)\n",
    "    for i, row in enumerate(data):\n",
    "        month_data = row[month_mask]\n",
    "        weekly_data, blah = weekly2monthy(unsorted_periods[np.invert(month_mask)], row[np.invert(month_mask)])\n",
    "        weekly_data = weekly_data[:-1]\n",
    "        #print(blah[0], blah[-1], periods[0],periods[-1]) This proves that I need to flip the weekly data\n",
    "        #print(type(month_data),type(weekly_data))\n",
    "        final_attendence[i,:] = np.concatenate((month_data, weekly_data[::-1]))\n",
    "    return final_attendence, periods\n",
    "    \n",
    "    \n",
    "final_attendence, final_periods = sort_data(attendences2, periods2)\n",
    "final_over4hours, final_periods = sort_data(over4hours, periods2)\n",
    "\n",
    "months = []\n",
    "for period in final_periods:\n",
    "    year = float(period.split('/')[1])\n",
    "    month = float(period.split('/')[0])\n",
    "    months.append(year+month/12)\n",
    "months = np.asarray(months)"
   ]
  },
  {
   "cell_type": "markdown",
   "metadata": {},
   "source": [
    "<h2>Final data tidy</h2>\n",
    "\n",
    "- Turn all numbers as strings into ints\n",
    "- Get rid of the nan line"
   ]
  },
  {
   "cell_type": "code",
   "execution_count": 8,
   "metadata": {},
   "outputs": [],
   "source": [
    "str2float = np.vectorize(np.float)\n",
    "\n",
    "#Delete the nan line\n",
    "final_attendence = np.delete(final_attendence, 1, axis=0)\n",
    "final_over4hours = np.delete(final_over4hours, 1, axis=0)\n",
    "allNames = np.delete(allNames, 1, axis=0)\n",
    "\n",
    "for i in range(len(final_attendence[:,0])):\n",
    "    for j in range(len(final_over4hours[i,:])):\n",
    "        if final_attendence[i,j] != '-':\n",
    "            final_attendence[i,j] = int(float(final_attendence[i,j]))\n",
    "            \n",
    "        if final_over4hours[i,j] != '-':\n",
    "            final_over4hours[i,j] = int(float(final_over4hours[i,j]))\n"
   ]
  },
  {
   "cell_type": "markdown",
   "metadata": {},
   "source": [
    "<h2> Check Plot</h2>"
   ]
  },
  {
   "cell_type": "code",
   "execution_count": 20,
   "metadata": {},
   "outputs": [
    {
     "data": {
      "image/png": "[encoded data removed]",
      "text/plain": [
       "<Figure size 504x360 with 1 Axes>"
      ]
     },
     "metadata": {
      "needs_background": "light"
     },
     "output_type": "display_data"
    }
   ],
   "source": [
    "i = -1\n",
    "\n",
    "fig = plt.figure(figsize=(7,5))\n",
    "ax1 = fig.add_subplot(111)\n",
    "plt.title(allNames[i],size = 10)\n",
    "mask = (final_over4hours[i,:] != '-')\n",
    "waiting = final_over4hours[i,:][mask]\n",
    "ax1.plot(months[mask], waiting,'.', lw=3)\n",
    "ax1.set_ylabel(\"% Waiting Over 4 hours\")\n",
    "plt.tight_layout()\n",
    "plt.show()"
   ]
  },
  {
   "cell_type": "code",
   "execution_count": 10,
   "metadata": {},
   "outputs": [],
   "source": [
    "np.save(\"NHSwaiting.npy\", [allNames, final_periods, final_attendence, final_over4hours])"
   ]
  },
  {
   "cell_type": "code",
   "execution_count": 19,
   "metadata": {},
   "outputs": [
    {
     "data": {
      "text/plain": [
       "array(['-', '-', '-', '-', '-', '-', '-', '-', '-', '-', '-', '-', '-',\n",
       "       '-', '-', '-', '-', '-', '-', '-', '-', '-', '-', '-', '-', '-',\n",
       "       '-', '-', '-', '-', '-', '-', '-', '-', '-', '-', '-', '-', '-',\n",
       "       '-', '-', '-', '-', '-', '-', '-', '-', '-', '-', '-', '-', '-',\n",
       "       '-', '-', '-', '-', '-', '-', '-', '-', '-', '-', '-', '-', '-',\n",
       "       '-', '-', '-', '-', '-', '-', '-', '-', '-', '-', '-', '-', '-',\n",
       "       '-', '-', '-', '-', '-', '-', '-', '-', '-', '-', '-', '-', '-',\n",
       "       '-', '-', '-', '-', '-', '-', '-', '-', '-', '-', '-', '-', '-',\n",
       "       '-', '-', '-', 26, '-', '-', '-'], dtype=object)"
      ]
     },
     "execution_count": 19,
     "metadata": {},
     "output_type": "execute_result"
    }
   ],
   "source": [
    "final_over4hours[-1,:]\n"
   ]
  },
  {
   "cell_type": "code",
   "execution_count": null,
   "metadata": {},
   "outputs": [],
   "source": []
  }
 ],
 "metadata": {
  "kernelspec": {
   "display_name": "Python 3",
   "language": "python",
   "name": "python3"
  },
  "language_info": {
   "codemirror_mode": {
    "name": "ipython",
    "version": 3
   },
   "file_extension": ".py",
   "mimetype": "text/x-python",
   "name": "python",
   "nbconvert_exporter": "python",
   "pygments_lexer": "ipython3",
   "version": "3.7.6"
  }
 },
 "nbformat": 4,
 "nbformat_minor": 2
}
