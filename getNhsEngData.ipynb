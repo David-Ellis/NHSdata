{
 "cells": [
  {
   "cell_type": "markdown",
   "metadata": {},
   "source": [
    "<center><h1>Get Data on NHS Waiting Times</h1></center>"
   ]
  },
  {
   "cell_type": "markdown",
   "metadata": {},
   "source": [
    "<h3>Get urls of all pages with the data</h3>"
   ]
  },
  {
   "cell_type": "code",
   "execution_count": 12,
   "metadata": {},
   "outputs": [
    {
     "name": "stdout",
     "output_type": "stream",
     "text": [
      "Total of 11 pages found\n"
     ]
    }
   ],
   "source": [
    "import requests, sys, webbrowser, bs4, os\n",
    "import matplotlib.pyplot as plt\n",
    "import numpy as np\n",
    "import requests\n",
    "import pandas as pd\n",
    "from time import strptime\n",
    "import matplotlib\n",
    "import csv\n",
    "matplotlib.rcParams['mathtext.fontset'] = 'stix'\n",
    "matplotlib.rcParams['font.family'] = 'sans-serif'\n",
    "matplotlib.rc('font', size=20)\n",
    "\n",
    "printOutput = False\n",
    "\n",
    "os.makedirs('AnE_Data', exist_ok=True)\n",
    "\n",
    "root_url = \"https://www.england.nhs.uk/statistics/statistical-work-areas/ae-waiting-times-and-activity/\"\n",
    "res = requests.get(root_url)\n",
    "soup = bs4.BeautifulSoup(res.content)\n",
    "\n",
    "linkElems = soup.select(\"a\")\n",
    "page_names = []\n",
    "\n",
    "for elem in linkElems:\n",
    "    if \"Monthly A&E Attendances and Emergency Admissions\" in elem.getText():\n",
    "        page_names.append(elem.get('href'))\n",
    "    elif \"Weekly A&E Attendances and Emergency Admissions\" in elem.getText():\n",
    "        page_names.append(elem.get('href'))\n",
    "\n",
    "print(\"Total of {} pages found\".format(len(page_names)))"
   ]
  },
  {
   "cell_type": "markdown",
   "metadata": {},
   "source": [
    "<h2>Get all csv and xls file names</h2>"
   ]
  },
  {
   "cell_type": "code",
   "execution_count": 13,
   "metadata": {},
   "outputs": [
    {
     "name": "stdout",
     "output_type": "stream",
     "text": [
      "Total of 22 csv files and 336 xls files.\n"
     ]
    }
   ],
   "source": [
    "csv_file_names = []\n",
    "xls_file_names = []\n",
    "\n",
    "for name in page_names:\n",
    "    #print(\"Looking at page: \", name, '\\n')\n",
    "    res = requests.get(name)\n",
    "    soup = bs4.BeautifulSoup(res.content)\n",
    "    linkElems = soup.select(\"a\")\n",
    "    for elem in linkElems:\n",
    "        if '.csv' in elem.get('href'):\n",
    "            csv_file_names.append(elem.get('href'))\n",
    "        # Take out quarters because they're difficult to deal with.\n",
    "        elif 'AE' in elem.get('href') and '.xls' in elem.get('href'):\n",
    "            xls_file_names.append(elem.get('href'))\n",
    "            #print(elem.get('href'))\n",
    "        elif 'by-provider' in elem.get('href') and '.xls' in elem.get('href'):\n",
    "            # To account for the change in January 2020\n",
    "            xls_file_names.append(elem.get('href'))\n",
    "print(\"Total of {} csv files and {} xls files.\".format(len(csv_file_names), len(xls_file_names)))"
   ]
  },
  {
   "cell_type": "markdown",
   "metadata": {},
   "source": [
    "<h2>Take data from xls files</h2>"
   ]
  },
  {
   "cell_type": "code",
   "execution_count": 14,
   "metadata": {},
   "outputs": [
    {
     "name": "stdout",
     "output_type": "stream",
     "text": [
      "298 complete of 298...\r"
     ]
    }
   ],
   "source": [
    "attendence_months = []\n",
    "over4hours_months = []\n",
    "period_months = []\n",
    "\n",
    "attendence_weeks = []\n",
    "over4hours_weeks = []\n",
    "period_weeks = []\n",
    "\n",
    "month_names = [\"January\", \"February\",\"March\", \"April\",\"May\", \"June\", \"July\",\n",
    "          \"August\", \"September\", \"October\", \"November\", \"December\"]\n",
    "\n",
    "def try1(sheet):\n",
    "    try: over4hours = sheet[\"Total Attendances > 4 hours\"][0]\n",
    "    except: return False \n",
    "    return True\n",
    "\n",
    "def try2(sheet):\n",
    "    try: over4hours = sheet[\"Total Attendances < 4 hours\"][0]\n",
    "    except: return False \n",
    "    return True\n",
    "\n",
    "def try3(sheet):\n",
    "    try: over4hours = sheet[\"Percentage in 4 hours or less (all)\"][0]\n",
    "    except: return False \n",
    "    return True\n",
    "\n",
    "def makeDataMask(data):\n",
    "    dataMask = np.zeros(len(data),dtype=bool)\n",
    "    for c, cell in enumerate(data):\n",
    "        #print(cell)\n",
    "        if type(cell)==str or np.isnan(cell):\n",
    "            dataMask[c]=False\n",
    "        else:\n",
    "            dataMask[c]=True\n",
    "    return dataMask\n",
    "\n",
    "# Make vectorised int function\n",
    "vecint = np.vectorize(int)\n",
    "\n",
    "# Open first data set to get all of the hospital names \n",
    "# AttendenceData = np.zeros(len())\n",
    "\n",
    "# Gather data that we actually want to use\n",
    "data = []\n",
    "for i, name in enumerate(xls_file_names):\n",
    "    if \"Quarter\" not in name and \"Timeseries\" not in name and \"Q1\" not in name and \"Q2\" not in name and \"Q3\" not in name and \"Q4\" not in name:\n",
    "        data.append(name)\n",
    "        \n",
    "########## REDUCE SIZE FOR TESTING ############        \n",
    "#data = data        \n",
    "    \n",
    "###########################################\n",
    "### Get names and initiate data storage ###\n",
    "##########################################\n",
    "\n",
    "resp = requests.get(data[0])\n",
    "# Store the data in a temporary file\n",
    "tempfile = open('tempfile.xls', 'wb')\n",
    "tempfile.write(resp.content)\n",
    "tempfile.close()\n",
    "sheet = pd.read_excel('tempfile.xls', sheet_name=0, skiprows=15, usecols=\"A,B,C,D,E,F,G,H,I,J,K,L,M,N\")\n",
    "firstNames = sheet['Name'].values        \n",
    "\n",
    "attendences2 = np.zeros((len(firstNames), len(data)),dtype=object) \n",
    "attendences2[:,:] = '-'\n",
    "over4hours = np.zeros((len(firstNames), len(data)),dtype=object) \n",
    "over4hours[:,:] = '-'\n",
    "\n",
    "periods2 = np.zeros(len(data),dtype = object)\n",
    "    \n",
    "for i, name in enumerate(data):   \n",
    "    # Get the data location\n",
    "    resp = requests.get(name)\n",
    "\n",
    "    # Store the data in a temporary file\n",
    "    tempfile = open('tempfile.xls', 'wb')\n",
    "    tempfile.write(resp.content)\n",
    "    tempfile.close()\n",
    "\n",
    "    # Get all of the data from row 16 with columns A to N\n",
    "    # I don't think this is how try is supposed to be used but it works\n",
    "    sheet = pd.read_excel('tempfile.xls', sheet_name=0, skiprows=15, usecols=\"A,B,C,D,E,F,G,H,I,J,K,L,M,N\")\n",
    "    sheetTest = sheet\n",
    "\n",
    "    names = sheet['Name'].values  \n",
    "    all_attendence = sheet[\"Total attendances\"]\n",
    "    \n",
    "    # Get the total attendance\n",
    "    try:\n",
    "        attendence = sheet[\"Total attendances\"][0]\n",
    "    except:\n",
    "        attendence = sheet[\"Total Attendances\"][0]\n",
    "    \n",
    "    \n",
    "    # Try each of the three attendance column headers\n",
    "    if try1(sheet):\n",
    "        #print(1)\n",
    "        sample = sheet[\"Total Attendances > 4 hours\"].values\n",
    "        all_over4hours = np.zeros(len(sample),dtype=object)\n",
    "        all_over4hours[:] = '-'\n",
    "        mask = makeDataMask(sample)\n",
    "        all_over4hours[mask] = sample[mask]\n",
    "    elif try2(sheet):\n",
    "        #print(2)\n",
    "        sample = sheet[\"Total Attendances < 4 hours\"].values\n",
    "        all_over4hours = np.zeros(len(sample),dtype=object)\n",
    "        all_over4hours[:] = '-'\n",
    "        mask = makeDataMask(sample)\n",
    "        all_over4hours[mask] = all_attendence.values[mask] - sample[mask]\n",
    "    elif try3(sheet):\n",
    "        #print(3)\n",
    "        sample = sheet[\"Percentage in 4 hours or less (all)\"].values\n",
    "        all_over4hours = np.zeros(len(sample),dtype=object)\n",
    "        all_over4hours[:] = '-'\n",
    "        mask = makeDataMask(sample)\n",
    "        all_over4hours[mask] = vecint((1-sample[mask])*all_attendence.values[mask])\n",
    "        \n",
    "    for j, fname in enumerate(firstNames):\n",
    "        if sum(names==fname) == 1:\n",
    "            # Save attendance data\n",
    "            hospital_attendence = all_attendence[names==fname]\n",
    "            attendences2[:,i][firstNames==fname] = hospital_attendence\n",
    "            \n",
    "            # Save waiting data\n",
    "            num_waiting = all_over4hours[names==fname]\n",
    "            over4hours[:,i][firstNames==fname] = num_waiting\n",
    "    # Get cell containing the data period\n",
    "    sheet = pd.read_excel('tempfile.xls', sheet_name=0, skiprows=5, usecols=\"C\")\n",
    "    period = sheet.columns[0]\n",
    "    #print(period)\n",
    "    periods2[i] = period\n",
    "\n",
    "    if printOutput == False:\n",
    "        print(\"{} complete of {}...\".format(i+1,len(data)),end = \"\\r\")"
   ]
  },
  {
   "cell_type": "code",
   "execution_count": 15,
   "metadata": {},
   "outputs": [],
   "source": [
    "# data\n",
    "# resp = requests.get(data[3])\n",
    "\n",
    "# # Store the data in a temporary file\n",
    "# tempfile = open('tempfile.xls', 'wb')\n",
    "# tempfile.write(resp.content)\n",
    "# tempfile.close()\n",
    "\n",
    "# # Get all of the data from row 16 with columns A to N\n",
    "# sheet = pd.read_excel('tempfile.xls', sheet_name=0, skiprows=15, usecols=\"A,B,C,D,E,F,G,H,I,J,K,L,M,N\")\n",
    "# test = sheet[\"Total Attendances < 4 hours\"].values\n",
    "# mask = makeDataMask(test)\n",
    "# test[mask]"
   ]
  },
  {
   "cell_type": "markdown",
   "metadata": {},
   "source": [
    "<h2>Turn weekly data into monthly data</h2>"
   ]
  },
  {
   "cell_type": "code",
   "execution_count": 16,
   "metadata": {},
   "outputs": [],
   "source": [
    "month_names = [\"January\", \"February\",\"March\", \"April\",\"May\", \"June\", \"July\",\n",
    "          \"August\", \"September\", \"October\", \"November\", \"December\"]\n",
    "\n",
    "def convMonths(date):\n",
    "    strip=strptime(date, \"%B %Y\")\n",
    "    text = \"{:02d}/{}\".format(strip[1], strip[0])\n",
    "    return text\n",
    "\n",
    "def convPeriods(periods):\n",
    "    # Make array of monthly data periods\n",
    "    \n",
    "    period_months = []\n",
    "    for period in periods:\n",
    "        # Check if it's month or week data\n",
    "        month = False\n",
    "        if period.split(' ')[0] in month_names:\n",
    "            text = convMonths(period)\n",
    "            period_months.append(text)\n",
    "        else:\n",
    "            text = period.split(' ')[2][3:]\n",
    "            if text not in period_months:\n",
    "                period_months.append(text)\n",
    "    return period_months\n",
    "\n",
    "def weekly2monthy(dates, weekly_data, printOutput = False):\n",
    "    # It's \"Week ending <date>\" so for each week, if the day is less than 7 \n",
    "    # I need to give a fraction to the previous month\n",
    "    days = np.zeros(len(dates))\n",
    "    months = np.zeros(len(dates))\n",
    "    years = np.zeros(len(dates))\n",
    "    \n",
    "    for i,week in enumerate(dates):\n",
    "        #print(week)\n",
    "        split = week.split(' ')[2].split('/')\n",
    "        days[i] = int(split[0])\n",
    "        months[i] = int(split[1])\n",
    "        years[i] = int(split[2])\n",
    "\n",
    "    monthly_data = []\n",
    "    weekly_data = np.asarray(weekly_data)\n",
    "    \n",
    "    new_dates = []\n",
    "    for year in range(int(min(years)),int(max(years))+1):\n",
    "        for month in range(1, 13):\n",
    "            mask = (years==year)*(months==month)\n",
    "            new_dates.append(\"{:02d}/{}\".format(month, year))\n",
    "            if sum(mask) > 0:\n",
    "                # Find the data corresponding to this month\n",
    "                month_data = weekly_data[mask]\n",
    "                if '-' not in month_data:\n",
    "                    week_ending = days[mask]\n",
    "\n",
    "                    # Calculate how much of the data came from the previous month \n",
    "                    # if this isn't the first data point, give the data to that month\n",
    "                    give_to_pevious = (7-week_ending[-1])*month_data[0]/7\n",
    "                    if len(monthly_data) > 0 and monthly_data[-1]!='-':\n",
    "                        monthly_data[-1] += give_to_pevious\n",
    "\n",
    "                    # Calulate total for this month minus donated data\n",
    "                    out = sum(month_data) - give_to_pevious\n",
    "                    # Check that we have all of the data for this month and if we do, append to final data list\n",
    "                    expected_data_entries = np.floor(abs(week_ending[0]-week_ending[-1])/7+1)\n",
    "                    if not int(expected_data_entries) == len(month_data):\n",
    "                        print(\"Error! Set: {} \\n       Should be {} but it's {}.\".format(np.asarray(dates)[mask], \n",
    "                                                        expected_data_entries, len(month_data)))\n",
    "                        print(\"Set will not be included in final data.\")\n",
    "                    else:\n",
    "                        \n",
    "                        #print(month_data)\n",
    "                        if 0 in month_data:\n",
    "                            monthly_data.append('-')\n",
    "                        else:\n",
    "                            monthly_data.append(out)\n",
    "                else:\n",
    "                    monthly_data.append('-')\n",
    "\n",
    "\n",
    "    return monthly_data, new_dates\n",
    "\n",
    "def sort_data(data, unsorted_periods):\n",
    "    periods = convPeriods(unsorted_periods)\n",
    "    final_attendence = np.zeros((len(firstNames), len(periods)), dtype=object)\n",
    "    \n",
    "    month_mask = [unsorted_periods[i].split(' ')[0] in month_names for i in range(len(unsorted_periods))]\n",
    "    #print(month_mask)\n",
    "    for i, row in enumerate(data):\n",
    "        month_data = row[month_mask]\n",
    "        weekly_data, blah = weekly2monthy(unsorted_periods[np.invert(month_mask)], row[np.invert(month_mask)])\n",
    "        weekly_data = weekly_data[:-1]\n",
    "        #print(blah[0], blah[-1], periods[0],periods[-1]) This proves that I need to flip the weekly data\n",
    "        #print(type(month_data),type(weekly_data))\n",
    "        final_attendence[i,:] = np.concatenate((month_data, weekly_data[::-1]))\n",
    "    return final_attendence, periods\n",
    "    \n",
    "    \n",
    "final_attendence, final_periods = sort_data(attendences2, periods2)\n",
    "final_over4hours, final_periods = sort_data(over4hours, periods2)\n",
    "\n",
    "months = []\n",
    "for period in final_periods:\n",
    "    year = float(period.split('/')[1])\n",
    "    month = float(period.split('/')[0])\n",
    "    months.append(year+month/12)\n",
    "months = np.asarray(months)"
   ]
  },
  {
   "cell_type": "markdown",
   "metadata": {},
   "source": [
    "<h2>Final data tidy</h2>\n",
    "\n",
    "- Turn all numbers as strings into ints\n",
    "- Get rid of the nan line"
   ]
  },
  {
   "cell_type": "code",
   "execution_count": 17,
   "metadata": {},
   "outputs": [],
   "source": [
    "str2float = np.vectorize(np.float)\n",
    "\n",
    "#Delete the nan line\n",
    "final_attendence = np.delete(final_attendence, 1, axis=0)\n",
    "final_over4hours = np.delete(final_over4hours, 1, axis=0)\n",
    "firstNames = np.delete(firstNames, 1, axis=0)\n",
    "\n",
    "for i in range(len(final_attendence[:,0])):\n",
    "    for j in range(len(final_over4hours[i,:])):\n",
    "        if final_attendence[i,j] != '-':\n",
    "            final_attendence[i,j] = int(float(final_attendence[i,j]))\n",
    "            \n",
    "        if final_over4hours[i,j] != '-':\n",
    "            final_over4hours[i,j] = int(float(final_over4hours[i,j]))\n"
   ]
  },
  {
   "cell_type": "markdown",
   "metadata": {},
   "source": [
    "<h2> Check Plot</h2>"
   ]
  },
  {
   "cell_type": "code",
   "execution_count": 18,
   "metadata": {},
   "outputs": [
    {
     "data": {
      "image/png": "[encoded data removed]",
      "text/plain": [
       "<Figure size 504x360 with 1 Axes>"
      ]
     },
     "metadata": {
      "needs_background": "light"
     },
     "output_type": "display_data"
    }
   ],
   "source": [
    "i = 0\n",
    "\n",
    "fig = plt.figure(figsize=(7,5))\n",
    "ax1 = fig.add_subplot(111)\n",
    "plt.title(firstNames[i],size = 10)\n",
    "mask = (final_attendence[i,:] != '-')*(final_over4hours[i,:] != '-')\n",
    "waiting = final_over4hours[i,:][mask]/final_attendence[i,:][mask]*100\n",
    "ax1.plot(months[mask], waiting, lw=3)\n",
    "#ax1.set_xlim([2010, 2020])\n",
    "ax1.set_ylabel(\"% Waiting Over 4 hours\")\n",
    "plt.tight_layout()\n",
    "plt.show()"
   ]
  },
  {
   "cell_type": "code",
   "execution_count": 19,
   "metadata": {},
   "outputs": [],
   "source": [
    "np.save(\"NHSwaiting.npy\", [firstNames, final_periods, final_attendence, final_over4hours])"
   ]
  },
  {
   "cell_type": "code",
   "execution_count": null,
   "metadata": {},
   "outputs": [],
   "source": []
  }
 ],
 "metadata": {
  "kernelspec": {
   "display_name": "Python 3",
   "language": "python",
   "name": "python3"
  },
  "language_info": {
   "codemirror_mode": {
    "name": "ipython",
    "version": 3
   },
   "file_extension": ".py",
   "mimetype": "text/x-python",
   "name": "python",
   "nbconvert_exporter": "python",
   "pygments_lexer": "ipython3",
   "version": "3.7.3"
  }
 },
 "nbformat": 4,
 "nbformat_minor": 2
}
