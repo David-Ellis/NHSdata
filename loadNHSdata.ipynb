{
 "cells": [
  {
   "cell_type": "code",
   "execution_count": 1,
   "metadata": {},
   "outputs": [],
   "source": [
    "import numpy as np\n",
    "import matplotlib.pyplot as plt\n",
    "import matplotlib\n",
    "\n",
    "def dates2num(dates_in):\n",
    "    dates_out = []\n",
    "    for period in dates_in:\n",
    "        year = float(period.split('/')[1])\n",
    "        month = float(period.split('/')[0])\n",
    "        dates_out.append(year+month/12)\n",
    "    return np.asarray(dates_out)"
   ]
  },
  {
   "cell_type": "code",
   "execution_count": 2,
   "metadata": {},
   "outputs": [],
   "source": [
    "NHSdata = np.load('NHSwaiting.npy', allow_pickle=True)\n",
    "names = NHSdata[0]\n",
    "dates = dates2num(NHSdata[1])\n",
    "attendance = NHSdata[2]\n",
    "waiting = NHSdata[3]"
   ]
  },
  {
   "cell_type": "code",
   "execution_count": 3,
   "metadata": {},
   "outputs": [
    {
     "data": {
      "image/png": "[encoded data removed]",
      "text/plain": [
       "<Figure size 504x360 with 1 Axes>"
      ]
     },
     "metadata": {
      "needs_background": "light"
     },
     "output_type": "display_data"
    },
    {
     "name": "stdout",
     "output_type": "stream",
     "text": [
      "303086\n"
     ]
    }
   ],
   "source": [
    "matplotlib.rcParams['mathtext.fontset'] = 'stix'\n",
    "matplotlib.rcParams['font.family'] = 'sans-serif'\n",
    "matplotlib.rc('font', size=20)\n",
    "\n",
    "fig, ax1 = plt.subplots(figsize = (7,5))\n",
    "time = np.arange(2010.25, 2020, 0.25)[::-1]\n",
    "\n",
    "hospital = 0 \n",
    "\n",
    "allBeds = waiting[hospital,:][waiting[hospital,:]!='-']\n",
    "\n",
    "ax1.bar([time[-1], time[0]], [allBeds[-1]*1e-3, allBeds[0]*1e-3], \n",
    "        width = 7, alpha=1,tick_label = [2010, 2020], color = ['#005EB8', '#DA291C'])\n",
    "ax1.set_xlim(2005, 2025)\n",
    "\n",
    "ax1.set_ylabel(\"Number of people waiting\\nover 4 hours at A&E\")\n",
    "plt.show()\n",
    "print(allBeds[0]-allBeds[-1])"
   ]
  },
  {
   "cell_type": "code",
   "execution_count": 42,
   "metadata": {},
   "outputs": [
    {
     "name": "stdout",
     "output_type": "stream",
     "text": [
      "1 University Hospitals Of Leicester NHS Trust\n",
      "2 University Hospitals Birmingham NHS Foundation Trust\n",
      "3 North West Anglia NHS Foundation Trust\n",
      "4 University Hospitals Of Derby And Burton NHS Foundation Trust\n",
      "5 Gloucestershire Hospitals NHS Foundation Trust\n"
     ]
    }
   ],
   "source": [
    "waiting = NHSdata[3]\n",
    "\n",
    "\n",
    "change = np.asarray([\"-\"]*len(waiting), dtype = \"object\")\n",
    "\n",
    "for i, waiting_i in enumerate(waiting):\n",
    "    if waiting_i[0] != \"-\" and waiting_i[1] != \"-\":\n",
    "        change[i] = waiting_i[0] - waiting_i[1]\n",
    "        \n",
    "top_five_changes = np.sort(change[change != \"-\"])[::-1][1:6]\n",
    "\n",
    "top_five_names = []\n",
    "\n",
    "for i, item in enumerate(top_five_changes):\n",
    "    new_name = names[change == item][0]\n",
    "    top_five_names.append(new_name)\n",
    "    print(i+1, new_name)\n"
   ]
  },
  {
   "cell_type": "code",
   "execution_count": 51,
   "metadata": {},
   "outputs": [],
   "source": [
    "def makeURL(name):\n",
    "    url_prefix = '-'.join(name.lower().split(' '))\n",
    "    url = ''.join([\"hospitals/\",url_prefix,\".html\"])\n",
    "    url = url.replace(',', '') \n",
    "    return url"
   ]
  },
  {
   "cell_type": "code",
   "execution_count": 54,
   "metadata": {},
   "outputs": [
    {
     "name": "stdout",
     "output_type": "stream",
     "text": [
      "\n",
      "    # 1: University Hospitals Of Leicester NHS Trust\n",
      "    \n",
      "    2559 more people waiting over four hours at A&E compared to last month.\n",
      "    \n",
      "    www.howsmynhs.co.uk/hospitals/university-hospitals-of-leicester-nhs-trust.html\n",
      "    \n",
      "\n",
      "    # 2: University Hospitals Birmingham NHS Foundation Trust\n",
      "    \n",
      "    1727 more people waiting over four hours at A&E compared to last month.\n",
      "    \n",
      "    www.howsmynhs.co.uk/hospitals/university-hospitals-birmingham-nhs-foundation-trust.html\n",
      "    \n",
      "\n",
      "    # 3: North West Anglia NHS Foundation Trust\n",
      "    \n",
      "    1630 more people waiting over four hours at A&E compared to last month.\n",
      "    \n",
      "    www.howsmynhs.co.uk/hospitals/north-west-anglia-nhs-foundation-trust.html\n",
      "    \n",
      "\n",
      "    # 4: University Hospitals Of Derby And Burton NHS Foundation Trust\n",
      "    \n",
      "    1375 more people waiting over four hours at A&E compared to last month.\n",
      "    \n",
      "    www.howsmynhs.co.uk/hospitals/university-hospitals-of-derby-and-burton-nhs-foundation-trust.html\n",
      "    \n",
      "\n",
      "    # 5: Gloucestershire Hospitals NHS Foundation Trust\n",
      "    \n",
      "    1144 more people waiting over four hours at A&E compared to last month.\n",
      "    \n",
      "    www.howsmynhs.co.uk/hospitals/gloucestershire-hospitals-nhs-foundation-trust.html\n",
      "    \n"
     ]
    }
   ],
   "source": [
    "for i,name in enumerate(top_five_names):\n",
    "    url = \"www.howsmynhs.co.uk/\" + makeURL(name)\n",
    "    tweet = '''\n",
    "    # {}: {}\n",
    "    \n",
    "    {} more people waiting over four hours at A&E compared to last month.\n",
    "    \n",
    "    {}\n",
    "    '''.format(i+1, name, change[names == name][0], url)\n",
    "    print(tweet)"
   ]
  },
  {
   "cell_type": "code",
   "execution_count": null,
   "metadata": {},
   "outputs": [],
   "source": []
  }
 ],
 "metadata": {
  "kernelspec": {
   "display_name": "Python 3",
   "language": "python",
   "name": "python3"
  },
  "language_info": {
   "codemirror_mode": {
    "name": "ipython",
    "version": 3
   },
   "file_extension": ".py",
   "mimetype": "text/x-python",
   "name": "python",
   "nbconvert_exporter": "python",
   "pygments_lexer": "ipython3",
   "version": "3.7.6"
  }
 },
 "nbformat": 4,
 "nbformat_minor": 2
}
