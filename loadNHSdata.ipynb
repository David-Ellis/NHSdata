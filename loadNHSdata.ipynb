{
 "cells": [
  {
   "cell_type": "code",
   "execution_count": 5,
   "metadata": {},
   "outputs": [],
   "source": [
    "import numpy as np\n",
    "import matplotlib.pyplot as plt\n",
    "\n",
    "def dates2num(dates_in):\n",
    "    dates_out = []\n",
    "    for period in dates_in:\n",
    "        year = float(period.split('/')[1])\n",
    "        month = float(period.split('/')[0])\n",
    "        dates_out.append(year+month/12)\n",
    "    return np.asarray(dates_out)"
   ]
  },
  {
   "cell_type": "code",
   "execution_count": 6,
   "metadata": {},
   "outputs": [],
   "source": [
    "NHSdata = np.load('NHSwaiting.npy', allow_pickle=True)\n",
    "names = NHSdata[0]\n",
    "dates = dates2num(NHSdata[1])\n",
    "attendance = NHSdata[2]\n",
    "waiting = NHSdata[3]"
   ]
  },
  {
   "cell_type": "code",
   "execution_count": null,
   "metadata": {},
   "outputs": [],
   "source": []
  }
 ],
 "metadata": {
  "kernelspec": {
   "display_name": "Python 3",
   "language": "python",
   "name": "python3"
  },
  "language_info": {
   "codemirror_mode": {
    "name": "ipython",
    "version": 3
   },
   "file_extension": ".py",
   "mimetype": "text/x-python",
   "name": "python",
   "nbconvert_exporter": "python",
   "pygments_lexer": "ipython3",
   "version": "3.6.4"
  }
 },
 "nbformat": 4,
 "nbformat_minor": 2
}
