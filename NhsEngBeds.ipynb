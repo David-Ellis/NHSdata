{
 "cells": [
  {
   "cell_type": "markdown",
   "metadata": {},
   "source": [
    "<center><h1>Get Data on NHS Waiting Times</h1></center>"
   ]
  },
  {
   "cell_type": "markdown",
   "metadata": {},
   "source": [
    "<h3>Get urls of all pages with the data</h3>"
   ]
  },
  {
   "cell_type": "code",
   "execution_count": 1,
   "metadata": {},
   "outputs": [
    {
     "name": "stdout",
     "output_type": "stream",
     "text": [
      "Total of 39 pages found\n"
     ]
    },
    {
     "name": "stderr",
     "output_type": "stream",
     "text": [
      "C:\\Users\\David\\Anaconda3\\lib\\site-packages\\bs4\\__init__.py:181: UserWarning: No parser was explicitly specified, so I'm using the best available HTML parser for this system (\"lxml\"). This usually isn't a problem, but if you run this code on another system, or in a different virtual environment, it may use a different parser and behave differently.\n",
      "\n",
      "The code that caused this warning is on line 193 of the file C:\\Users\\David\\Anaconda3\\lib\\runpy.py. To get rid of this warning, change code that looks like this:\n",
      "\n",
      " BeautifulSoup(YOUR_MARKUP})\n",
      "\n",
      "to this:\n",
      "\n",
      " BeautifulSoup(YOUR_MARKUP, \"lxml\")\n",
      "\n",
      "  markup_type=markup_type))\n"
     ]
    }
   ],
   "source": [
    "import requests, sys, webbrowser, bs4, os\n",
    "import matplotlib.pyplot as plt\n",
    "import numpy as np\n",
    "import requests\n",
    "import pandas as pd\n",
    "from time import strptime\n",
    "import matplotlib\n",
    "import csv\n",
    "matplotlib.rcParams['mathtext.fontset'] = 'stix'\n",
    "matplotlib.rcParams['font.family'] = 'sans-serif'\n",
    "matplotlib.rc('font', size=20)\n",
    "\n",
    "printOutput = False\n",
    "\n",
    "os.makedirs('Bed_Data', exist_ok=True)\n",
    "\n",
    "root_url = \"https://www.england.nhs.uk/statistics/statistical-work-areas/bed-availability-and-occupancy/bed-data-overnight/\"\n",
    "res = requests.get(root_url)\n",
    "soup = bs4.BeautifulSoup(res.content)\n",
    "\n",
    "linkElems = soup.select(\"a\")\n",
    "page_names = []\n",
    "\n",
    "for elem in linkElems:\n",
    "    if \"NHS organisations in England, Quarter\" in elem.getText():\n",
    "        page_names.append(elem.get('href'))\n",
    "        \n",
    "print(\"Total of {} pages found\".format(len(page_names)))"
   ]
  },
  {
   "cell_type": "markdown",
   "metadata": {},
   "source": [
    "<h2>Take data from xls files</h2>"
   ]
  },
  {
   "cell_type": "code",
   "execution_count": 2,
   "metadata": {},
   "outputs": [
    {
     "name": "stdout",
     "output_type": "stream",
     "text": [
      "0 1 2 3 4 5 6 7 8 9 10 11 12 13 14 15 16 17 18 19 20 21 22 23 24 25 26 27 28 29 30 31 32 33 34 35 36 37 38 "
     ]
    }
   ],
   "source": [
    "attendence_months = []\n",
    "over4hours_months = []\n",
    "period_months = []\n",
    "\n",
    "attendence_weeks = []\n",
    "over4hours_weeks = []\n",
    "period_weeks = []\n",
    "\n",
    "\n",
    "# Make vectorised int function\n",
    "vecint = np.vectorize(int)\n",
    "\n",
    "# Open first data set to get all of the hospital names \n",
    "# AttendenceData = np.zeros(len())\n",
    "\n",
    "# Gather data that we actually want to use\n",
    "data = page_names\n",
    "        \n",
    "###########################################\n",
    "### Get names and initiate data storage ###\n",
    "##########################################\n",
    "\n",
    "resp = requests.get(data[0])\n",
    "# Store the data in a temporary file\n",
    "tempfile = open('tempfile.xls', 'wb')\n",
    "tempfile.write(resp.content)\n",
    "tempfile.close()\n",
    "sheet = pd.read_excel('tempfile.xls', sheet_name=0, skiprows=14, usecols=\"A,B,C,D,E,F,G,H,I,J,K,L,M,N\")\n",
    "\n",
    "# List of names from the first sheet\n",
    "firstNames = sheet['Org Name'].values        \n",
    "\n",
    "BedsAvail = np.zeros((len(firstNames), len(data)),dtype=object) \n",
    "BedsAvail[:,:] = '-'\n",
    "OccBeds = np.zeros((len(firstNames), len(data)),dtype=object) \n",
    "OccBeds[:,:] = '-'\n",
    "    \n",
    "for i, name in enumerate(data):   \n",
    "    # Get the data location\n",
    "    resp = requests.get(name)\n",
    "\n",
    "    # Store the data in a temporary file\n",
    "    tempfile = open('tempfile.xls', 'wb')\n",
    "    tempfile.write(resp.content)\n",
    "    tempfile.close()\n",
    "\n",
    "    # Get all of the data from row 16 with columns A to N\n",
    "    # I don't think this is how try is supposed to be used but it works\n",
    "    if not 'XLS-406K' in name:\n",
    "        sheet_avail = pd.read_excel('tempfile.xls', sheet_name=0, skiprows=14, usecols=\"F,G,H,I,J,K\")\n",
    "        sheet_occ = pd.read_excel('tempfile.xls', sheet_name=0, skiprows=14, usecols=\"F,N,M,O,P,Q\")\n",
    "    else:\n",
    "        sheet_avail = pd.read_excel('tempfile.xls', sheet_name=0, skiprows=5, usecols=\"E,F,G,H,I\")\n",
    "        sheet_occ = pd.read_excel('tempfile.xls', sheet_name=0, skiprows=5, usecols=\"E,L,M,N,O,P\")\n",
    "    #print(sheet)\n",
    "    names = sheet_avail['Org Name'].values\n",
    "    totalbeds = sheet_avail['Total '].values\n",
    "    occbeds = sheet_occ['Total '].values\n",
    "    \n",
    "    for j, fname in enumerate(firstNames):\n",
    "        if sum(names==fname) == 1:\n",
    "            # Save attendance data\n",
    "            beds = totalbeds[names==fname]\n",
    "            assert len(beds) == 1\n",
    "            BedsAvail[:,i][firstNames==fname] = beds\n",
    "            \n",
    "            # Save waiting data\n",
    "            occ_beds = occbeds[names==fname]\n",
    "            assert len(occ_beds) == 1\n",
    "            OccBeds[:,i][firstNames==fname] = occ_beds\n",
    "    \n",
    "    print(i, end = ' ')\n",
    "\n",
    "#     if printOutput == False:\n",
    "#         print(\"{} complete of {}...\".format(i+1,len(data)),end = \"\\r\")"
   ]
  },
  {
   "cell_type": "markdown",
   "metadata": {},
   "source": [
    "<h2> Check Plot</h2>"
   ]
  },
  {
   "cell_type": "code",
   "execution_count": 3,
   "metadata": {},
   "outputs": [
    {
     "data": {
      "image/png": "[encoded data removed]",
      "text/plain": [
       "<Figure size 504x360 with 1 Axes>"
      ]
     },
     "metadata": {
      "needs_background": "light"
     },
     "output_type": "display_data"
    },
    {
     "name": "stdout",
     "output_type": "stream",
     "text": [
      "-100.24175824175813\n",
      "1826\n"
     ]
    }
   ],
   "source": [
    "fig, ax1 = plt.subplots(figsize = (7,5))\n",
    "time = np.arange(2010.25, 2020, 0.25)[::-1]\n",
    "\n",
    "hospital = 2\n",
    "\n",
    "allBeds = BedsAvail[hospital,:][BedsAvail[hospital,:]!='-']\n",
    "ax1.set_title(firstNames[hospital],size = 10)\n",
    "ax1.bar(time[BedsAvail[hospital,:]!='-'], allBeds*1e-3, width = 0.2,\n",
    "        align='center', alpha=1, color=\"#005EB8\")\n",
    "#plt.plot(time, allBeds,'r.',lw=2)\n",
    "ax1.set_ylim(0.98*min(allBeds)*1e-3, 1.01*max(allBeds)*1e-3)\n",
    "ax1.set_ylabel(\"Total Number of Beds\\n(Thousands)\")\n",
    "plt.show()\n",
    "\n",
    "print(allBeds[0]-allBeds[-1])\n",
    "print(int(allBeds[1]))"
   ]
  },
  {
   "cell_type": "code",
   "execution_count": 4,
   "metadata": {},
   "outputs": [],
   "source": [
    "better = 0\n",
    "worse = 0\n",
    "same = 0\n",
    "change = np.zeros(len(firstNames[2:]))\n",
    "for i, name in enumerate(firstNames[2:]):# 'BEDFORD HOSPITAL NHS TRUST'\n",
    "    Beds = BedsAvail[firstNames == name]\n",
    "    Beds = Beds[Beds!='-']\n",
    "    \n",
    "    change[i] = Beds[0]-Beds[-1]\n",
    "    if change[i]>Beds[-1]*0.05:\n",
    "        better += 1\n",
    "    elif change[i]<-Beds[-1]*0.05:\n",
    "        worse += 1\n",
    "    else:\n",
    "        same += 1\n",
    "\n",
    "#plt.plot(time[BedfordBedsAvail != '-'], remaining,lw=2)"
   ]
  },
  {
   "cell_type": "code",
   "execution_count": 5,
   "metadata": {},
   "outputs": [
    {
     "data": {
      "image/png": "[encoded data removed]",
      "text/plain": [
       "<Figure size 504x504 with 1 Axes>"
      ]
     },
     "metadata": {},
     "output_type": "display_data"
    }
   ],
   "source": [
    "# Data to plot\n",
    "matplotlib.rcParams['mathtext.fontset'] = 'stix'\n",
    "matplotlib.rcParams['font.family'] = 'sans-serif'\n",
    "matplotlib.rc('font', size=20)\n",
    "\n",
    "plt.figure(figsize = (7,7))\n",
    "labels = 'Less Beds', 'Same', 'More Beds'\n",
    "sizes = [worse, same, better]\n",
    "colors = ['lightcoral', 'lightgray', 'yellowgreen']\n",
    "explode = (0.05, 0.0, 0.0)  # explode 1st slice\n",
    "\n",
    "# Plot\n",
    "plt.pie(sizes, explode=explode, labels=labels, colors=colors,\n",
    "autopct='%1.1f%%', shadow=True, startangle=140)\n",
    "\n",
    "plt.axis('equal')\n",
    "plt.show()\n",
    "\n",
    "#Bahnschrift Light"
   ]
  },
  {
   "cell_type": "markdown",
   "metadata": {},
   "source": [
    "<h3>Tidy up the data</h3>"
   ]
  },
  {
   "cell_type": "code",
   "execution_count": 6,
   "metadata": {},
   "outputs": [],
   "source": [
    "# Take out 'nan' value\n",
    "OutNames = np.delete(firstNames,1)\n",
    "\n",
    "# Make all names lower case\n",
    "for i, name in enumerate(OutNames):\n",
    "    OutNames[i] = name.lower()\n",
    "\n",
    "# Turn values to integers\n",
    "BedsOut = np.delete(BedsAvail, 1, axis = 0)\n",
    "for i in range(len(OutNames)):\n",
    "    if i != 1:\n",
    "        for j, val in enumerate(BedsOut[i]):\n",
    "            if val != '-':\n",
    "                BedsOut[i][j] = int(val)"
   ]
  },
  {
   "cell_type": "code",
   "execution_count": 7,
   "metadata": {},
   "outputs": [],
   "source": [
    "np.save(\"NHSbeds.npy\", [OutNames, time, BedsOut])"
   ]
  },
  {
   "cell_type": "code",
   "execution_count": 8,
   "metadata": {},
   "outputs": [],
   "source": [
    "firstNames, time, BedsAvail = np.load(\"NHSbeds.npy\")"
   ]
  },
  {
   "cell_type": "code",
   "execution_count": 9,
   "metadata": {},
   "outputs": [
    {
     "data": {
      "image/png": "[encoded data removed]",
      "text/plain": [
       "<Figure size 504x360 with 1 Axes>"
      ]
     },
     "metadata": {
      "needs_background": "light"
     },
     "output_type": "display_data"
    }
   ],
   "source": [
    "matplotlib.rcParams['mathtext.fontset'] = 'stix'\n",
    "matplotlib.rcParams['font.family'] = 'sans-serif'\n",
    "matplotlib.rc('font', size=20)\n",
    "\n",
    "fig, ax1 = plt.subplots(figsize = (7,5))\n",
    "time = np.arange(2010.25, 2020, 0.25)[::-1]\n",
    "\n",
    "hospital = 0 \n",
    "\n",
    "allBeds = BedsAvail[hospital,:][BedsAvail[hospital,:]!='-']\n",
    "\n",
    "ax1.bar([time[-1], time[0]], [allBeds[-1]*1e-3, allBeds[0]*1e-3], \n",
    "        width = 7, alpha=1,tick_label = [2010, 2020], color = ['#005EB8', '#DA291C'])\n",
    "ax1.set_xlim(2005, 2025)\n",
    "ax1.set_ylim(0.98*min(allBeds)*1e-3, 1.01*max(allBeds)*1e-3)\n",
    "ax1.set_ylabel(\"Total Number of Beds\\n(Thousands)\")\n",
    "plt.show()\n"
   ]
  },
  {
   "cell_type": "code",
   "execution_count": 10,
   "metadata": {},
   "outputs": [
    {
     "data": {
      "text/plain": [
       "16126"
      ]
     },
     "execution_count": 10,
     "metadata": {},
     "output_type": "execute_result"
    }
   ],
   "source": [
    "allBeds[-1] -allBeds[0]"
   ]
  },
  {
   "cell_type": "code",
   "execution_count": null,
   "metadata": {},
   "outputs": [],
   "source": []
  }
 ],
 "metadata": {
  "kernelspec": {
   "display_name": "Python 3",
   "language": "python",
   "name": "python3"
  },
  "language_info": {
   "codemirror_mode": {
    "name": "ipython",
    "version": 3
   },
   "file_extension": ".py",
   "mimetype": "text/x-python",
   "name": "python",
   "nbconvert_exporter": "python",
   "pygments_lexer": "ipython3",
   "version": "3.6.4"
  }
 },
 "nbformat": 4,
 "nbformat_minor": 2
}
