{
 "cells": [
  {
   "cell_type": "markdown",
   "metadata": {},
   "source": [
    "<center><h1>Get Data on NHS Waiting Times</h1></center>"
   ]
  },
  {
   "cell_type": "markdown",
   "metadata": {},
   "source": [
    "<h3>Get urls of all pages with the data</h3>"
   ]
  },
  {
   "cell_type": "code",
   "execution_count": 1,
   "metadata": {},
   "outputs": [
    {
     "name": "stdout",
     "output_type": "stream",
     "text": [
      "Total of 41 pages found\n"
     ]
    }
   ],
   "source": [
    "import requests, sys, webbrowser, bs4, os\n",
    "import matplotlib.pyplot as plt\n",
    "import numpy as np\n",
    "import requests\n",
    "import pandas as pd\n",
    "from time import strptime\n",
    "import matplotlib\n",
    "import csv\n",
    "\n",
    "matplotlib.rcParams['mathtext.fontset'] = 'stix'\n",
    "matplotlib.rcParams['font.family'] = 'sans-serif'\n",
    "matplotlib.rc('font', size=20)\n",
    "\n",
    "printOutput = False\n",
    "\n",
    "os.makedirs('Bed_Data', exist_ok=True)\n",
    "\n",
    "root_url = \"https://www.england.nhs.uk/statistics/statistical-work-areas/bed-availability-and-occupancy/bed-data-overnight/\"\n",
    "res = requests.get(root_url)\n",
    "soup = bs4.BeautifulSoup(res.content)\n",
    "\n",
    "linkElems = soup.select(\"a\")\n",
    "page_names = []\n",
    "\n",
    "for elem in linkElems:\n",
    "    if \"NHS organisations in England, Quarter\" in elem.getText():\n",
    "        page_names.append(elem.get('href'))\n",
    "        \n",
    "print(\"Total of {} pages found\".format(len(page_names)))"
   ]
  },
  {
   "cell_type": "markdown",
   "metadata": {},
   "source": [
    "<h2>Take data from xls files</h2>"
   ]
  },
  {
   "cell_type": "code",
   "execution_count": 2,
   "metadata": {},
   "outputs": [
    {
     "name": "stdout",
     "output_type": "stream",
     "text": [
      "['England' nan 'BARTS HEALTH NHS TRUST'\n",
      " 'LONDON NORTH WEST UNIVERSITY HEALTHCARE NHS TRUST'\n",
      " 'ROYAL FREE LONDON NHS FOUNDATION TRUST'\n",
      " 'ROYAL NATIONAL ORTHOPAEDIC HOSPITAL NHS TRUST'\n",
      " 'NORTH MIDDLESEX UNIVERSITY HOSPITAL NHS TRUST'\n",
      " 'THE HILLINGDON HOSPITALS NHS FOUNDATION TRUST'\n",
      " 'NORTH EAST LONDON NHS FOUNDATION TRUST'\n",
      " 'KINGSTON HOSPITAL NHS FOUNDATION TRUST'\n",
      " 'BARKING, HAVERING AND REDBRIDGE UNIVERSITY HOSPITALS NHS TRUST'\n",
      " \"GUY'S AND ST THOMAS' NHS FOUNDATION TRUST\"\n",
      " 'LEWISHAM AND GREENWICH NHS TRUST' 'CROYDON HEALTH SERVICES NHS TRUST'\n",
      " \"ST GEORGE'S UNIVERSITY HOSPITALS NHS FOUNDATION TRUST\"\n",
      " \"KING'S COLLEGE HOSPITAL NHS FOUNDATION TRUST\"\n",
      " 'WHITTINGTON HEALTH NHS TRUST' 'WEST LONDON NHS TRUST'\n",
      " 'GREAT ORMOND STREET HOSPITAL FOR CHILDREN NHS FOUNDATION TRUST'\n",
      " 'MOORFIELDS EYE HOSPITAL NHS FOUNDATION TRUST'\n",
      " 'THE ROYAL MARSDEN NHS FOUNDATION TRUST'\n",
      " 'CHELSEA AND WESTMINSTER HOSPITAL NHS FOUNDATION TRUST'\n",
      " 'HOMERTON UNIVERSITY HOSPITAL NHS FOUNDATION TRUST'\n",
      " \"SOUTH WEST LONDON AND ST GEORGE'S MENTAL HEALTH NHS TRUST\"\n",
      " 'BARNET, ENFIELD AND HARINGEY MENTAL HEALTH NHS TRUST'\n",
      " 'UNIVERSITY COLLEGE LONDON HOSPITALS NHS FOUNDATION TRUST'\n",
      " 'ROYAL BROMPTON & HAREFIELD NHS FOUNDATION TRUST'\n",
      " 'CENTRAL AND NORTH WEST LONDON NHS FOUNDATION TRUST'\n",
      " 'EPSOM AND ST HELIER UNIVERSITY HOSPITALS NHS TRUST'\n",
      " 'EAST LONDON NHS FOUNDATION TRUST'\n",
      " 'IMPERIAL COLLEGE HEALTHCARE NHS TRUST'\n",
      " 'CENTRAL LONDON COMMUNITY HEALTHCARE NHS TRUST'\n",
      " 'CAMDEN AND ISLINGTON NHS FOUNDATION TRUST'\n",
      " 'YEOVIL DISTRICT HOSPITAL NHS FOUNDATION TRUST'\n",
      " 'UNIVERSITY HOSPITALS BRISTOL AND WESTON NHS FOUNDATION TRUST'\n",
      " 'TORBAY AND SOUTH DEVON NHS FOUNDATION TRUST'\n",
      " 'DORSET COUNTY HOSPITAL NHS FOUNDATION TRUST'\n",
      " 'NORTHERN DEVON HEALTHCARE NHS TRUST'\n",
      " 'ROYAL UNITED HOSPITALS BATH NHS FOUNDATION TRUST'\n",
      " 'POOLE HOSPITAL NHS FOUNDATION TRUST'\n",
      " 'DORSET HEALTHCARE UNIVERSITY NHS FOUNDATION TRUST'\n",
      " 'THE ROYAL BOURNEMOUTH AND CHRISTCHURCH HOSPITALS NHS FOUNDATION TRUST'\n",
      " 'ROYAL CORNWALL HOSPITALS NHS TRUST' 'SOMERSET NHS FOUNDATION TRUST'\n",
      " 'ROYAL DEVON AND EXETER NHS FOUNDATION TRUST'\n",
      " 'CORNWALL PARTNERSHIP NHS FOUNDATION TRUST'\n",
      " 'UNIVERSITY HOSPITALS PLYMOUTH NHS TRUST'\n",
      " 'GREAT WESTERN HOSPITALS NHS FOUNDATION TRUST'\n",
      " 'SALISBURY NHS FOUNDATION TRUST'\n",
      " 'GLOUCESTERSHIRE HOSPITALS NHS FOUNDATION TRUST'\n",
      " 'GLOUCESTERSHIRE HEALTH AND CARE NHS FOUNDATION TRUST'\n",
      " 'NORTH BRISTOL NHS TRUST'\n",
      " 'AVON AND WILTSHIRE MENTAL HEALTH PARTNERSHIP NHS TRUST'\n",
      " 'DEVON PARTNERSHIP NHS TRUST' 'SOLENT NHS TRUST'\n",
      " 'ISLE OF WIGHT NHS TRUST'\n",
      " 'ROYAL SURREY COUNTY HOSPITAL NHS FOUNDATION TRUST'\n",
      " 'FRIMLEY HEALTH NHS FOUNDATION TRUST'\n",
      " 'UNIVERSITY HOSPITAL SOUTHAMPTON NHS FOUNDATION TRUST'\n",
      " 'PORTSMOUTH HOSPITALS NHS TRUST' 'ROYAL BERKSHIRE NHS FOUNDATION TRUST'\n",
      " 'HAMPSHIRE HOSPITALS NHS FOUNDATION TRUST'\n",
      " 'DARTFORD AND GRAVESHAM NHS TRUST' 'OXFORD HEALTH NHS FOUNDATION TRUST'\n",
      " 'MEDWAY NHS FOUNDATION TRUST'\n",
      " 'QUEEN VICTORIA HOSPITAL NHS FOUNDATION TRUST'\n",
      " 'OXLEAS NHS FOUNDATION TRUST'\n",
      " 'OXFORD UNIVERSITY HOSPITALS NHS FOUNDATION TRUST'\n",
      " \"ASHFORD AND ST PETER'S HOSPITALS NHS FOUNDATION TRUST\"\n",
      " 'SURREY AND SUSSEX HEALTHCARE NHS TRUST'\n",
      " 'EAST KENT HOSPITALS UNIVERSITY NHS FOUNDATION TRUST'\n",
      " 'SOUTHERN HEALTH NHS FOUNDATION TRUST'\n",
      " 'MAIDSTONE AND TUNBRIDGE WELLS NHS TRUST'\n",
      " 'BERKSHIRE HEALTHCARE NHS FOUNDATION TRUST'\n",
      " 'SUSSEX PARTNERSHIP NHS FOUNDATION TRUST'\n",
      " 'EAST SUSSEX HEALTHCARE NHS TRUST'\n",
      " 'BRIGHTON AND SUSSEX UNIVERSITY HOSPITALS NHS TRUST'\n",
      " 'BUCKINGHAMSHIRE HEALTHCARE NHS TRUST'\n",
      " 'SURREY AND BORDERS PARTNERSHIP NHS FOUNDATION TRUST'\n",
      " 'KENT AND MEDWAY NHS AND SOCIAL CARE PARTNERSHIP TRUST'\n",
      " 'WESTERN SUSSEX HOSPITALS NHS FOUNDATION TRUST'\n",
      " 'WORCESTERSHIRE HEALTH AND CARE NHS TRUST' 'WALSALL HEALTHCARE NHS TRUST'\n",
      " 'CHESTERFIELD ROYAL HOSPITAL NHS FOUNDATION TRUST'\n",
      " 'NOTTINGHAMSHIRE HEALTHCARE NHS FOUNDATION TRUST'\n",
      " 'SOUTH WARWICKSHIRE NHS FOUNDATION TRUST'\n",
      " 'UNIVERSITY HOSPITALS OF NORTH MIDLANDS NHS TRUST'\n",
      " 'SHERWOOD FOREST HOSPITALS NHS FOUNDATION TRUST'\n",
      " 'UNIVERSITY HOSPITALS COVENTRY AND WARWICKSHIRE NHS TRUST'\n",
      " 'THE ROBERT JONES AND AGNES HUNT ORTHOPAEDIC HOSPITAL NHS FOUNDATION TRUST'\n",
      " 'THE ROYAL WOLVERHAMPTON NHS TRUST' 'WYE VALLEY NHS TRUST'\n",
      " 'GEORGE ELIOT HOSPITAL NHS TRUST'\n",
      " 'NORTH STAFFORDSHIRE COMBINED HEALTHCARE NHS TRUST'\n",
      " 'THE DUDLEY GROUP NHS FOUNDATION TRUST'\n",
      " 'KETTERING GENERAL HOSPITAL NHS FOUNDATION TRUST'\n",
      " 'NORTHAMPTON GENERAL HOSPITAL NHS TRUST'\n",
      " 'NORTHAMPTONSHIRE HEALTHCARE NHS FOUNDATION TRUST'\n",
      " 'LINCOLNSHIRE PARTNERSHIP NHS FOUNDATION TRUST'\n",
      " \"BIRMINGHAM WOMEN'S AND CHILDREN'S NHS FOUNDATION TRUST\"\n",
      " 'MIDLANDS PARTNERSHIP NHS FOUNDATION TRUST'\n",
      " 'THE ROYAL ORTHOPAEDIC HOSPITAL NHS FOUNDATION TRUST'\n",
      " 'UNIVERSITY HOSPITALS BIRMINGHAM NHS FOUNDATION TRUST'\n",
      " 'UNIVERSITY HOSPITALS OF DERBY AND BURTON NHS FOUNDATION TRUST'\n",
      " 'UNITED LINCOLNSHIRE HOSPITALS NHS TRUST'\n",
      " 'UNIVERSITY HOSPITALS OF LEICESTER NHS TRUST'\n",
      " 'WORCESTERSHIRE ACUTE HOSPITALS NHS TRUST'\n",
      " 'NOTTINGHAM UNIVERSITY HOSPITALS NHS TRUST'\n",
      " 'SANDWELL AND WEST BIRMINGHAM HOSPITALS NHS TRUST'\n",
      " 'DERBYSHIRE HEALTHCARE NHS FOUNDATION TRUST'\n",
      " 'BIRMINGHAM AND SOLIHULL MENTAL HEALTH NHS FOUNDATION TRUST'\n",
      " 'SHREWSBURY AND TELFORD HOSPITAL NHS TRUST'\n",
      " 'LINCOLNSHIRE COMMUNITY HEALTH SERVICES NHS TRUST'\n",
      " 'DERBYSHIRE COMMUNITY HEALTH SERVICES NHS FOUNDATION TRUST'\n",
      " 'COVENTRY AND WARWICKSHIRE PARTNERSHIP NHS TRUST'\n",
      " 'BIRMINGHAM COMMUNITY HEALTHCARE NHS FOUNDATION TRUST'\n",
      " 'BLACK COUNTRY HEALTHCARE NHS FOUNDATION TRUST'\n",
      " 'ESSEX PARTNERSHIP UNIVERSITY NHS FOUNDATION TRUST'\n",
      " 'MID AND SOUTH ESSEX NHS FOUNDATION TRUST'\n",
      " 'BEDFORDSHIRE HOSPITALS NHS FOUNDATION TRUST'\n",
      " \"THE QUEEN ELIZABETH HOSPITAL, KING'S LYNN, NHS FOUNDATION TRUST\"\n",
      " 'MILTON KEYNES UNIVERSITY HOSPITAL NHS FOUNDATION TRUST'\n",
      " 'EAST SUFFOLK AND NORTH ESSEX NHS FOUNDATION TRUST'\n",
      " 'ROYAL PAPWORTH HOSPITAL NHS FOUNDATION TRUST'\n",
      " 'NORTH WEST ANGLIA NHS FOUNDATION TRUST'\n",
      " 'JAMES PAGET UNIVERSITY HOSPITALS NHS FOUNDATION TRUST'\n",
      " 'WEST SUFFOLK NHS FOUNDATION TRUST'\n",
      " 'CAMBRIDGE UNIVERSITY HOSPITALS NHS FOUNDATION TRUST'\n",
      " 'NORFOLK AND NORWICH UNIVERSITY HOSPITALS NHS FOUNDATION TRUST'\n",
      " 'NORFOLK AND SUFFOLK NHS FOUNDATION TRUST'\n",
      " 'THE PRINCESS ALEXANDRA HOSPITAL NHS TRUST'\n",
      " 'CAMBRIDGESHIRE AND PETERBOROUGH NHS FOUNDATION TRUST'\n",
      " 'WEST HERTFORDSHIRE HOSPITALS NHS TRUST'\n",
      " 'EAST AND NORTH HERTFORDSHIRE NHS TRUST'\n",
      " 'HERTFORDSHIRE PARTNERSHIP UNIVERSITY NHS FOUNDATION TRUST'\n",
      " 'NORFOLK COMMUNITY HEALTH AND CARE NHS TRUST'\n",
      " 'MANCHESTER UNIVERSITY NHS FOUNDATION TRUST'\n",
      " 'WIRRAL UNIVERSITY TEACHING HOSPITAL NHS FOUNDATION TRUST'\n",
      " 'ST HELENS AND KNOWSLEY TEACHING HOSPITALS NHS TRUST'\n",
      " 'LIVERPOOL HEART AND CHEST HOSPITAL NHS FOUNDATION TRUST'\n",
      " \"ALDER HEY CHILDREN'S NHS FOUNDATION TRUST\"\n",
      " 'MID CHESHIRE HOSPITALS NHS FOUNDATION TRUST'\n",
      " 'THE CHRISTIE NHS FOUNDATION TRUST'\n",
      " 'LIVERPOOL UNIVERSITY HOSPITALS NHS FOUNDATION TRUST'\n",
      " 'THE CLATTERBRIDGE CANCER CENTRE NHS FOUNDATION TRUST'\n",
      " \"LIVERPOOL WOMEN'S NHS FOUNDATION TRUST\"\n",
      " 'THE WALTON CENTRE NHS FOUNDATION TRUST' 'EAST CHESHIRE NHS TRUST'\n",
      " 'COUNTESS OF CHESTER HOSPITAL NHS FOUNDATION TRUST'\n",
      " 'SALFORD ROYAL NHS FOUNDATION TRUST' 'BOLTON NHS FOUNDATION TRUST'\n",
      " 'TAMESIDE AND GLOSSOP INTEGRATED CARE NHS FOUNDATION TRUST'\n",
      " 'WRIGHTINGTON, WIGAN AND LEIGH NHS FOUNDATION TRUST'\n",
      " 'PENNINE CARE NHS FOUNDATION TRUST'\n",
      " 'NORTH WEST BOROUGHS HEALTHCARE NHS FOUNDATION TRUST'\n",
      " 'UNIVERSITY HOSPITALS OF MORECAMBE BAY NHS FOUNDATION TRUST'\n",
      " 'SOUTHPORT AND ORMSKIRK HOSPITAL NHS TRUST'\n",
      " 'MERSEY CARE NHS FOUNDATION TRUST'\n",
      " 'LANCASHIRE & SOUTH CUMBRIA NHS FOUNDATION TRUST'\n",
      " 'PENNINE ACUTE HOSPITALS NHS TRUST' 'STOCKPORT NHS FOUNDATION TRUST'\n",
      " 'WARRINGTON AND HALTON TEACHING HOSPITALS NHS FOUNDATION TRUST'\n",
      " 'CHESHIRE AND WIRRAL PARTNERSHIP NHS FOUNDATION TRUST'\n",
      " 'BLACKPOOL TEACHING HOSPITALS NHS FOUNDATION TRUST'\n",
      " 'LANCASHIRE TEACHING HOSPITALS NHS FOUNDATION TRUST'\n",
      " 'EAST LANCASHIRE HOSPITALS NHS TRUST'\n",
      " 'SOUTH TYNESIDE AND SUNDERLAND NHS FOUNDATION TRUST'\n",
      " 'BRADFORD TEACHING HOSPITALS NHS FOUNDATION TRUST'\n",
      " 'YORK TEACHING HOSPITAL NHS FOUNDATION TRUST'\n",
      " 'HARROGATE AND DISTRICT NHS FOUNDATION TRUST'\n",
      " 'AIREDALE NHS FOUNDATION TRUST'\n",
      " \"SHEFFIELD CHILDREN'S NHS FOUNDATION TRUST\"\n",
      " 'BARNSLEY HOSPITAL NHS FOUNDATION TRUST'\n",
      " 'THE ROTHERHAM NHS FOUNDATION TRUST'\n",
      " 'LEEDS AND YORK PARTNERSHIP NHS FOUNDATION TRUST'\n",
      " 'SHEFFIELD TEACHING HOSPITALS NHS FOUNDATION TRUST'\n",
      " 'NORTHERN LINCOLNSHIRE AND GOOLE NHS FOUNDATION TRUST'\n",
      " 'NORTH CUMBRIA INTEGRATED CARE NHS FOUNDATION TRUST'\n",
      " 'DONCASTER AND BASSETLAW TEACHING HOSPITALS NHS FOUNDATION TRUST'\n",
      " 'GATESHEAD HEALTH NHS FOUNDATION TRUST'\n",
      " 'LEEDS TEACHING HOSPITALS NHS TRUST'\n",
      " 'THE NEWCASTLE UPON TYNE HOSPITALS NHS FOUNDATION TRUST'\n",
      " 'NORTHUMBRIA HEALTHCARE NHS FOUNDATION TRUST'\n",
      " 'SOUTH TEES HOSPITALS NHS FOUNDATION TRUST'\n",
      " 'HUMBER TEACHING NHS FOUNDATION TRUST'\n",
      " 'NORTH TEES AND HARTLEPOOL NHS FOUNDATION TRUST'\n",
      " 'HULL UNIVERSITY TEACHING HOSPITALS NHS TRUST'\n",
      " 'CALDERDALE AND HUDDERSFIELD NHS FOUNDATION TRUST'\n",
      " 'TEES, ESK AND WEAR VALLEYS NHS FOUNDATION TRUST'\n",
      " 'CUMBRIA, NORTHUMBERLAND, TYNE AND WEAR NHS FOUNDATION TRUST'\n",
      " 'ROTHERHAM DONCASTER AND SOUTH HUMBER NHS FOUNDATION TRUST'\n",
      " 'MID YORKSHIRE HOSPITALS NHS TRUST'\n",
      " 'SOUTH WEST YORKSHIRE PARTNERSHIP NHS FOUNDATION TRUST'\n",
      " 'COUNTY DURHAM AND DARLINGTON NHS FOUNDATION TRUST'\n",
      " 'LEEDS COMMUNITY HEALTHCARE NHS TRUST'\n",
      " 'BRADFORD DISTRICT CARE NHS FOUNDATION TRUST'\n",
      " 'SHEFFIELD HEALTH & SOCIAL CARE NHS FOUNDATION TRUST'\n",
      " 'BEDFORD HOSPITAL NHS TRUST'\n",
      " 'LUTON AND DUNSTABLE UNIVERSITY HOSPITAL NHS FOUNDATION TRUST'\n",
      " 'BASILDON AND THURROCK UNIVERSITY HOSPITALS NHS FOUNDATION TRUST'\n",
      " 'MID ESSEX HOSPITAL SERVICES NHS TRUST'\n",
      " 'SOUTHEND UNIVERSITY HOSPITAL NHS FOUNDATION TRUST']\n"
     ]
    },
    {
     "name": "stdout",
     "output_type": "stream",
     "text": [
      "41 complete of 41...\r"
     ]
    }
   ],
   "source": [
    "attendence_months = []\n",
    "over4hours_months = []\n",
    "period_months = []\n",
    "\n",
    "attendence_weeks = []\n",
    "over4hours_weeks = []\n",
    "period_weeks = []\n",
    "\n",
    "\n",
    "# Make vectorised int function\n",
    "vecint = np.vectorize(int)\n",
    "\n",
    "# Open first data set to get all of the hospital names \n",
    "# AttendenceData = np.zeros(len())\n",
    "\n",
    "# Gather data that we actually want to use\n",
    "data = page_names\n",
    "        \n",
    "###########################################\n",
    "### Get names and initiate data storage ###\n",
    "##########################################\n",
    "\n",
    "resp = requests.get(data[0])\n",
    "# Store the data in a temporary file\n",
    "tempfile = open('tempfile.xls', 'wb')\n",
    "tempfile.write(resp.content)\n",
    "tempfile.close()\n",
    "sheet = pd.read_excel('tempfile.xls', sheet_name=0, skiprows=14, usecols=\"A,B,C,D,E,F,G,H,I,J,K,L,M,N\")\n",
    "\n",
    "# List of names from the first sheet\n",
    "firstNames = sheet['Org Name'].values        \n",
    "\n",
    "oldTrusts = [\"Bedford Hospital NHS Trust\", \n",
    "                      \"Luton And Dunstable University Hospital NHS Foundation Trust\",\n",
    "                      \"Basildon And Thurrock University Hospitals NHS Foundation Trust\",\n",
    "                      \"Mid Essex Hospital Services NHS Trust\",\n",
    "                      \"Southend University Hospital NHS Foundation Trust\"]\n",
    "oldTrusts = [oldTrust.upper() for oldTrust in oldTrusts]\n",
    "\n",
    "\n",
    "firstNames = np.concatenate((firstNames, oldTrusts))\n",
    "print(firstNames)\n",
    "BedsAvail = np.zeros((len(firstNames), len(data)),dtype=object) \n",
    "BedsAvail[:,:] = '-'\n",
    "OccBeds = np.zeros((len(firstNames), len(data)),dtype=object) \n",
    "OccBeds[:,:] = '-'\n",
    "    \n",
    "for i, name in enumerate(data):  \n",
    "    #print(i, name)\n",
    "    \n",
    "    # Get the data location\n",
    "    resp = requests.get(name)\n",
    "\n",
    "    # Store the data in a temporary file\n",
    "    tempfile = open('tempfile.xls', 'wb')\n",
    "    tempfile.write(resp.content)\n",
    "    tempfile.close()\n",
    "\n",
    "    # Get all of the data from row 16 with columns A to N\n",
    "    if not 'XLS-406K' in name:\n",
    "        sheet_avail = pd.read_excel('tempfile.xls', sheet_name=0, skiprows=14, usecols=\"F,G,H,I,J,K\")\n",
    "        sheet_occ = pd.read_excel('tempfile.xls', sheet_name=0, skiprows=14, usecols=\"F,N,M,O,P,Q\")\n",
    "    else:\n",
    "        sheet_avail = pd.read_excel('tempfile.xls', sheet_name=0, skiprows=5, usecols=\"E,F,G,H,I\")\n",
    "        sheet_occ = pd.read_excel('tempfile.xls', sheet_name=0, skiprows=5, usecols=\"E,L,M,N,O,P\")\n",
    "\n",
    "    #print(sheet)\n",
    "    newNames = sheet_avail['Org Name'].values\n",
    "    totalbeds = sheet_avail['Total '].values\n",
    "    occbeds = sheet_occ['Total .1'].values\n",
    "           \n",
    "    \n",
    "    for j, name in enumerate(newNames):\n",
    "        \n",
    "        beds = totalbeds[newNames==name]\n",
    "        \n",
    "        \n",
    "        occ_beds = occbeds[newNames==name]\n",
    "        \n",
    "    \n",
    "        if name in firstNames:\n",
    "            assert len(beds) == 1\n",
    "            assert len(occ_beds) == 1\n",
    "            \n",
    "            # Save attendance data\n",
    "            BedsAvail[:,i][firstNames==name] = beds\n",
    "            \n",
    "            # Save waiting data\n",
    "            OccBeds[:,i][firstNames==name] = occ_beds\n",
    "            \n",
    "        elif name == \"LUTON AND DUNSTABLE HOSPITAL NHS FOUNDATION TRUST\":\n",
    "            assert len(beds) == 1\n",
    "            assert len(occ_beds) == 1            \n",
    "\n",
    "            # Save attendance data\n",
    "            BedsAvail[:,i][firstNames==\"LUTON AND DUNSTABLE UNIVERSITY HOSPITAL NHS FOUNDATION TRUST\"] = beds\n",
    "            \n",
    "            # Save waiting data\n",
    "            OccBeds[:,i][firstNames==\"LUTON AND DUNSTABLE UNIVERSITY HOSPITAL NHS FOUNDATION TRUST\"] = occ_beds\n",
    "        \n",
    "    if printOutput == False:\n",
    "        print(\"{} complete of {}...\".format(i+1,len(data)),end = \"\\r\")\n"
   ]
  },
  {
   "cell_type": "markdown",
   "metadata": {},
   "source": [
    "<h2> Check Plot</h2>"
   ]
  },
  {
   "cell_type": "code",
   "execution_count": 13,
   "metadata": {},
   "outputs": [
    {
     "data": {
      "image/png": "[encoded data removed]",
      "text/plain": [
       "<Figure size 504x360 with 1 Axes>"
      ]
     },
     "metadata": {
      "needs_background": "light"
     },
     "output_type": "display_data"
    },
    {
     "name": "stdout",
     "output_type": "stream",
     "text": [
      "72\n",
      "697\n"
     ]
    }
   ],
   "source": [
    "fig, ax1 = plt.subplots(figsize = (7,5))\n",
    "time = np.arange(2010.25, 2020.5, 0.25)[::-1]\n",
    "\n",
    "hospital = -3\n",
    "\n",
    "allBeds = BedsAvail[hospital,:][BedsAvail[hospital,:]!='-']\n",
    "ax1.set_title(firstNames[hospital],size = 10)\n",
    "ax1.bar(time[BedsAvail[hospital,:]!='-'], allBeds*1e-3, width = 0.2,\n",
    "        align='center', alpha=1, color=\"#005EB8\")\n",
    "#plt.plot(time, allBeds,'r.',lw=2)\n",
    "ax1.set_ylim(0.98*min(allBeds)*1e-3, 1.01*max(allBeds)*1e-3)\n",
    "ax1.set_ylabel(\"Total Number of Beds\\n(Thousands)\")\n",
    "ax1.set_xlim(2010, 2020.5)\n",
    "plt.show()\n",
    "\n",
    "print(allBeds[0]-allBeds[-1])\n",
    "print(int(allBeds[1]))"
   ]
  },
  {
   "cell_type": "code",
   "execution_count": 4,
   "metadata": {},
   "outputs": [
    {
     "name": "stdout",
     "output_type": "stream",
     "text": [
      "-10004.178360407703\n"
     ]
    }
   ],
   "source": [
    "better = 0\n",
    "worse = 0\n",
    "same = 0\n",
    "\n",
    "last_index = -1\n",
    "\n",
    "totalChange = 0\n",
    "\n",
    "for i, name in enumerate(firstNames[2:-2]):\n",
    "    Beds = BedsAvail[firstNames == name]\n",
    "    Beds = Beds[Beds!='-']\n",
    "    \n",
    "    if len(Beds) > 2:\n",
    "        change = (Beds[0]-Beds[last_index])\n",
    "        totalChange += change\n",
    "        if change>50:\n",
    "            better += 1\n",
    "        elif change<-50:\n",
    "            worse += 1\n",
    "        else:\n",
    "            same += 1\n",
    "\n",
    "print(totalChange)"
   ]
  },
  {
   "cell_type": "code",
   "execution_count": 5,
   "metadata": {},
   "outputs": [
    {
     "data": {
      "image/png": "[encoded data removed]",
      "text/plain": [
       "<Figure size 504x504 with 1 Axes>"
      ]
     },
     "metadata": {},
     "output_type": "display_data"
    }
   ],
   "source": [
    "# Data to plot\n",
    "matplotlib.rcParams['mathtext.fontset'] = 'stix'\n",
    "matplotlib.rcParams['font.family'] = 'sans-serif'\n",
    "matplotlib.rc('font', size=20)\n",
    "\n",
    "plt.figure(figsize = (7,7))\n",
    "labels = 'Fewer Beds', 'Same*', 'More Beds'\n",
    "sizes = [worse, same, better]\n",
    "colors = ['lightcoral', 'lightgray', 'yellowgreen']\n",
    "explode = (0.05, 0.0, 0.0)  # explode 1st slice\n",
    "\n",
    "# Plot\n",
    "plt.pie(sizes, explode=explode, labels=labels, colors=colors,\n",
    "autopct='%1.1f%%', shadow=True, startangle=140)\n",
    "\n",
    "plt.axis('equal')\n",
    "plt.tight_layout()\n",
    "plt.annotate(\"* change smaller than 50 beds.\", (0.6, -1.2), size = 13, color = \"gray\")\n",
    "plt.savefig(\"BedsPieChart.png\")\n",
    "plt.show()\n",
    "\n",
    "#Bahnschrift Light"
   ]
  },
  {
   "cell_type": "markdown",
   "metadata": {},
   "source": [
    "<h3>Tidy up the data</h3>"
   ]
  },
  {
   "cell_type": "code",
   "execution_count": 6,
   "metadata": {},
   "outputs": [],
   "source": [
    "# Take out 'nan' value\n",
    "OutNames = np.delete(firstNames,1)\n",
    "\n",
    "# Make all names lower case\n",
    "for i, name in enumerate(OutNames):\n",
    "    OutNames[i] = name.lower()\n",
    "\n",
    "# Turn values to integers\n",
    "BedsOut = np.delete(BedsAvail, 1, axis = 0)\n",
    "for i in range(len(OutNames)):\n",
    "    if i != 1:\n",
    "        for j, val in enumerate(BedsOut[i]):\n",
    "            if val != '-':\n",
    "                BedsOut[i][j] = int(val)"
   ]
  },
  {
   "cell_type": "code",
   "execution_count": 7,
   "metadata": {},
   "outputs": [],
   "source": [
    "np.save(\"NHSbeds.npy\", [OutNames, time, BedsOut])"
   ]
  },
  {
   "cell_type": "code",
   "execution_count": 8,
   "metadata": {},
   "outputs": [],
   "source": [
    "firstNames, time, BedsAvail = np.load(\"NHSbeds.npy\", allow_pickle=True)"
   ]
  },
  {
   "cell_type": "code",
   "execution_count": 9,
   "metadata": {},
   "outputs": [
    {
     "data": {
      "image/png": "[encoded data removed]",
      "text/plain": [
       "<Figure size 504x360 with 1 Axes>"
      ]
     },
     "metadata": {
      "needs_background": "light"
     },
     "output_type": "display_data"
    }
   ],
   "source": [
    "matplotlib.rcParams['mathtext.fontset'] = 'stix'\n",
    "matplotlib.rcParams['font.family'] = 'sans-serif'\n",
    "matplotlib.rc('font', size=20)\n",
    "\n",
    "fig, ax1 = plt.subplots(figsize = (7,5))\n",
    "time = np.arange(2010.25, 2020, 0.25)[::-1]\n",
    "\n",
    "hospital = 0\n",
    "\n",
    "allBeds = BedsAvail[hospital,:][BedsAvail[hospital,:]!='-']\n",
    "\n",
    "ax1.bar([time[-1], time[0]], [allBeds[-1]*1e-3, allBeds[0]*1e-3], \n",
    "        width = 7, alpha=1,tick_label = [2010, 2020], color = ['#DA291C','#005EB8'])\n",
    "ax1.set_xlim(2005, 2025)\n",
    "ax1.set_ylim(0,200)\n",
    "ax1.set_ylabel(\"Total Number of Beds\\n(Thousands)\")\n",
    "plt.show()\n"
   ]
  },
  {
   "cell_type": "code",
   "execution_count": 10,
   "metadata": {},
   "outputs": [
    {
     "data": {
      "image/png": "[encoded data removed]",
      "text/plain": [
       "<Figure size 504x360 with 1 Axes>"
      ]
     },
     "metadata": {
      "needs_background": "light"
     },
     "output_type": "display_data"
    },
    {
     "name": "stdout",
     "output_type": "stream",
     "text": [
      "-26003\n",
      "128935\n"
     ]
    }
   ],
   "source": [
    "fig, ax1 = plt.subplots(figsize = (7,5))\n",
    "time = np.arange(2010.25, 2020.5, 0.25)[::-1]\n",
    "\n",
    "hospital = -2\n",
    "\n",
    "luton = BedsAvail[hospital,:]\n",
    "ax1.bar(time[luton!='-'], luton[luton!='-'], width = 0.2,\n",
    "        align='center', alpha=1, color=\"#80b3ff\", label = \"Bedford\")\n",
    "#plt.plot(time, allBeds,'r.',lw=2)\n",
    "\n",
    "hospital = -1\n",
    "\n",
    "bedford = BedsAvail[hospital,:]\n",
    "ax1.bar(time[bedford!='-'], bedford[bedford!='-'], width = 0.2,\n",
    "        align='center', alpha=1, color=\"#005EB8\", bottom=luton[luton!='-'], label = \"Luton + Dunstible\")\n",
    "#plt.plot(time, allBeds,'r.',lw=2)\n",
    "\n",
    "\n",
    "hospital = 118\n",
    "bedfordshire = BedsAvail[hospital,:]\n",
    "ax1.bar(time[bedfordshire!='-'], bedfordshire[bedfordshire!='-'], width = 0.2,\n",
    "        align='center', alpha=1, color=\"#003d99\", label = \"Bedfordshire\")\n",
    "#plt.plot(time, allBeds,'r.',lw=2)\n",
    "ax1.set_ylabel(\"Total Number of Beds\\n(Thousands)\")\n",
    "\n",
    "ax1.set_ylim(0.9*min(luton[luton != \"-\"]), \n",
    "             1.1*max(max(luton[luton != \"-\"]+bedford[bedford != \"-\"]), max(bedfordshire[bedfordshire != \"-\"])))\n",
    "plt.legend(prop = {\"size\": 14})\n",
    "plt.show()\n",
    "\n",
    "print(allBeds[0]-allBeds[-1])\n",
    "print(int(allBeds[1]))"
   ]
  },
  {
   "cell_type": "code",
   "execution_count": null,
   "metadata": {},
   "outputs": [],
   "source": []
  },
  {
   "cell_type": "code",
   "execution_count": null,
   "metadata": {},
   "outputs": [],
   "source": []
  }
 ],
 "metadata": {
  "kernelspec": {
   "display_name": "Python 3",
   "language": "python",
   "name": "python3"
  },
  "language_info": {
   "codemirror_mode": {
    "name": "ipython",
    "version": 3
   },
   "file_extension": ".py",
   "mimetype": "text/x-python",
   "name": "python",
   "nbconvert_exporter": "python",
   "pygments_lexer": "ipython3",
   "version": "3.7.6"
  }
 },
 "nbformat": 4,
 "nbformat_minor": 2
}
