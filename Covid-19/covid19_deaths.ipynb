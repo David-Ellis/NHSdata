{
 "cells": [
  {
   "cell_type": "markdown",
   "metadata": {},
   "source": [
    "<h1><center>Daily Covid-19 Deaths</center></h1>\n",
    "From <a href = \"https://www.england.nhs.uk/statistics/statistical-work-areas/covid-19-daily-deaths/\">NHS page</a> on Covid-19 deaths."
   ]
  },
  {
   "cell_type": "code",
   "execution_count": 1,
   "metadata": {},
   "outputs": [],
   "source": [
    "import requests, bs4, os\n",
    "import numpy as np\n",
    "import requests\n",
    "import pandas as pd\n"
   ]
  },
  {
   "cell_type": "markdown",
   "metadata": {},
   "source": [
    "## Find spreadsheet link"
   ]
  },
  {
   "cell_type": "code",
   "execution_count": 2,
   "metadata": {},
   "outputs": [
    {
     "name": "stdout",
     "output_type": "stream",
     "text": [
      "Link: https://www.england.nhs.uk/statistics/wp-content/uploads/sites/2/2020/11/COVID-19-total-announced-deaths-23-November-2020.xlsx\n"
     ]
    }
   ],
   "source": [
    "root_url = \"https://www.england.nhs.uk/statistics/statistical-work-areas/covid-19-daily-deaths/\"\n",
    "res = requests.get(root_url)\n",
    "soup = bs4.BeautifulSoup(res.content)\n",
    "\n",
    "linkElems = soup.select(\"a\")\n",
    "\n",
    "for elem in linkElems:\n",
    "    url = elem.get('href')\n",
    "    if \"COVID-19-total-announced-deaths\" in url and not \"weekly\" in url:\n",
    "        link = url\n",
    "\n",
    "print(\"Link:\", link)"
   ]
  },
  {
   "cell_type": "markdown",
   "metadata": {},
   "source": [
    "## Load Spreadsheet"
   ]
  },
  {
   "cell_type": "code",
   "execution_count": 3,
   "metadata": {},
   "outputs": [
    {
     "name": "stdout",
     "output_type": "stream",
     "text": [
      "Spreadsheet loaded.\n"
     ]
    }
   ],
   "source": [
    "resp = requests.get(link)\n",
    "\n",
    "# Store the data in a temporary file\n",
    "tempfile = open('tempfile.xls', 'wb')\n",
    "tempfile.write(resp.content)\n",
    "tempfile.close()\n",
    "\n",
    "sheet = pd.read_excel('tempfile.xls', sheet_name=5, skiprows=15)\n",
    "\n",
    "# get names\n",
    "names = np.delete(sheet[\"Name\"].values,1) # (deleting empty space)\n",
    "\n",
    "#get dates\n",
    "dates = sheet.columns.values[6:-4]\n",
    "\n",
    "deaths = np.delete(sheet.values[:,6:-4], 1, 0) # (deleting empty row)\n",
    "os.remove(\"tempfile.xls\")\n",
    "print(\"Spreadsheet loaded.\")"
   ]
  },
  {
   "cell_type": "markdown",
   "metadata": {},
   "source": [
    "## Combine Bedford and Luton\n",
    "Since the two trusts have actually merged"
   ]
  },
  {
   "cell_type": "code",
   "execution_count": 4,
   "metadata": {},
   "outputs": [
    {
     "name": "stdout",
     "output_type": "stream",
     "text": [
      "Bedford and Luton combined.\n"
     ]
    }
   ],
   "source": [
    "bedford_name = \"BEDFORD HOSPITAL NHS TRUST\"\n",
    "luton_name = \"LUTON AND DUNSTABLE UNIVERSITY HOSPITAL NHS FOUNDATION TRUST\"\n",
    "\n",
    "bedfordshire_name = \"Bedfordshire Hospitals NHS Foundation Trust\"\n",
    "\n",
    "bedford_index = np.where(names == bedford_name)[0][0]\n",
    "luton_index = np.where(names == luton_name)[0][0]\n",
    "\n",
    "# get Bedfordshire trust total deaths\n",
    "bedford_deaths = deaths[bedford_index, :]\n",
    "luton_deaths = deaths[luton_index, :]\n",
    "befordshire_deaths = bedford_deaths + luton_deaths\n",
    "\n",
    "# Replace Bedford with Bedfordshire\n",
    "deaths[bedford_index,:] = befordshire_deaths\n",
    "names[bedford_index] = bedfordshire_name\n",
    "\n",
    "# delete Luton entries\n",
    "deaths = np.delete(deaths, luton_index, 0)\n",
    "names = np.delete(names, luton_index)\n",
    "print(\"Bedford and Luton combined.\")"
   ]
  },
  {
   "cell_type": "markdown",
   "metadata": {},
   "source": [
    "## Merge Mid and South Essex Trusts"
   ]
  },
  {
   "cell_type": "code",
   "execution_count": 5,
   "metadata": {},
   "outputs": [
    {
     "name": "stdout",
     "output_type": "stream",
     "text": [
      "Essex trusts combined.\n"
     ]
    }
   ],
   "source": [
    "name1=\"Basildon and Thurrock University Hospitals NHS Foundation Trust\"\n",
    "name2=\"Mid Essex Hospital Services NHS Trust\"\n",
    "name3=\"Southend University Hospital NHS Foundation Trust\"\n",
    "new_name = \"Mid and South Essex NHS Foundation Trust\"\n",
    "\n",
    "index1 = np.where(names == name1.upper())[0][0]\n",
    "index2 = np.where(names == name2.upper())[0][0]\n",
    "index3 = np.where(names == name3.upper())[0][0]\n",
    "\n",
    "essex_deaths = deaths[index1, :]+deaths[index2, :]+deaths[index3, :]\n",
    "\n",
    "# replace first trust with combined\n",
    "names[index1] = new_name\n",
    "deaths[index1,:] = essex_deaths\n",
    "\n",
    "# delete old trusts\n",
    "deaths = np.delete(deaths, index2, 0)\n",
    "names = np.delete(names, index2)\n",
    "deaths = np.delete(deaths, index3, 0)\n",
    "names = np.delete(names, index3)\n",
    "print(\"Essex trusts combined.\")"
   ]
  },
  {
   "cell_type": "markdown",
   "metadata": {},
   "source": [
    "## Check plot"
   ]
  },
  {
   "cell_type": "code",
   "execution_count": 6,
   "metadata": {},
   "outputs": [
    {
     "data": {
      "image/png": "[encoded data removed]",
      "text/plain": [
       "<Figure size 504x360 with 1 Axes>"
      ]
     },
     "metadata": {
      "needs_background": "light"
     },
     "output_type": "display_data"
    }
   ],
   "source": [
    "import matplotlib.pyplot as plt\n",
    "import matplotlib.dates as mdates\n",
    "import matplotlib\n",
    "\n",
    "matplotlib.rcParams['mathtext.fontset'] = 'stix'\n",
    "matplotlib.rcParams['font.family'] = 'sans-serif'\n",
    "matplotlib.rc('font', size=16)\n",
    "\n",
    "index = 0\n",
    "\n",
    "fig = plt.figure(figsize = (7,5))\n",
    "ax = fig.add_subplot(111)\n",
    "ax.set_title(names[index], size = 12)\n",
    "\n",
    "ax.plot(dates, deaths[index,:], \".\")\n",
    "ax.set_ylabel(\"Daily Covid-19 Deaths\")\n",
    "ax.xaxis.set_tick_params(rotation=35)\n",
    "ax.xaxis.set_major_formatter(mdates.DateFormatter('%b'))\n",
    "ax.set_ylabel(\"Daily Covid-19 Deaths\")\n",
    "plt.show()"
   ]
  },
  {
   "cell_type": "markdown",
   "metadata": {},
   "source": [
    "## Save data"
   ]
  },
  {
   "cell_type": "code",
   "execution_count": 7,
   "metadata": {},
   "outputs": [],
   "source": [
    "np.save(\"covid_deaths.npy\", [names, dates, deaths])"
   ]
  },
  {
   "cell_type": "code",
   "execution_count": null,
   "metadata": {},
   "outputs": [],
   "source": []
  }
 ],
 "metadata": {
  "kernelspec": {
   "display_name": "Python 3",
   "language": "python",
   "name": "python3"
  },
  "language_info": {
   "codemirror_mode": {
    "name": "ipython",
    "version": 3
   },
   "file_extension": ".py",
   "mimetype": "text/x-python",
   "name": "python",
   "nbconvert_exporter": "python",
   "pygments_lexer": "ipython3",
   "version": "3.7.6"
  }
 },
 "nbformat": 4,
 "nbformat_minor": 4
}
